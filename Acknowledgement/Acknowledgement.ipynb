{
 "metadata": {
  "name": "",
  "signature": "sha256:791c3da98c520b950ff6cd514afe9e640a28777897f93dc441941b82f0728126"
 },
 "nbformat": 3,
 "nbformat_minor": 0,
 "worksheets": [
  {
   "cells": [
    {
     "cell_type": "heading",
     "level": 1,
     "metadata": {},
     "source": [
      "Acknowledgement"
     ]
    },
    {
     "cell_type": "markdown",
     "metadata": {},
     "source": [
      "Ok, this is a bit overkill. A simple tex file would do here. \n",
      "\n",
      "I've not decided what I'm going to do. \n",
      "\n",
      "It is, perhaps, convenient at least to use the notebook as an editor and notes repository here. Depends on your point of view. "
     ]
    },
    {
     "cell_type": "code",
     "collapsed": false,
     "input": [
      "#%load acknowledgement.tex"
     ],
     "language": "python",
     "metadata": {
      "run_control": {
       "breakpoint": false
      }
     },
     "outputs": [],
     "prompt_number": 5
    },
    {
     "cell_type": "code",
     "collapsed": false,
     "input": [
      "\"\"\"\n",
      "% ************************** Thesis Acknowledgements *****************************\n",
      "\n",
      "\\begin{acknowledgements}      \n",
      "\n",
      "\n",
      "And I would like to acknowledge ...\n",
      "\n",
      "\n",
      "\\end{acknowledgements}\n",
      "\"\"\";"
     ],
     "language": "python",
     "metadata": {
      "run_control": {
       "breakpoint": false
      }
     },
     "outputs": [],
     "prompt_number": 4
    },
    {
     "cell_type": "code",
     "collapsed": false,
     "input": [
      "%%writefile acknowledgement.tex\n",
      "\n",
      "% ************************** Thesis Acknowledgements *****************************\n",
      "\n",
      "\\begin{acknowledgements}      \n",
      "\n",
      "\n",
      "This is John's acknoledgements section\n",
      "\n",
      "\n",
      "\\end{acknowledgements}\n"
     ],
     "language": "python",
     "metadata": {
      "run_control": {
       "breakpoint": false
      }
     },
     "outputs": [
      {
       "output_type": "stream",
       "stream": "stdout",
       "text": [
        "Overwriting acknowledgement.tex\n"
       ]
      }
     ],
     "prompt_number": 6
    }
   ],
   "metadata": {}
  }
 ]
}
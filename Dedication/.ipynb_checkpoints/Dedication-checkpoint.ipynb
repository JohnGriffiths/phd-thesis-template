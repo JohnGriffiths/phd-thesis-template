{
 "metadata": {
  "name": "",
  "signature": "sha256:3eb27d88371afd8d7f28fd05f7d674f77926cfd38cdb1dd0125a57c1480d20a1"
 },
 "nbformat": 3,
 "nbformat_minor": 0,
 "worksheets": [
  {
   "cells": [
    {
     "cell_type": "heading",
     "level": 1,
     "metadata": {},
     "source": [
      "Dedication"
     ]
    },
    {
     "cell_type": "code",
     "collapsed": false,
     "input": [
      "ls"
     ],
     "language": "python",
     "metadata": {},
     "outputs": [
      {
       "output_type": "stream",
       "stream": "stdout",
       "text": [
        "\u001b[0m\u001b[01;32mdedication.aux\u001b[0m*  \u001b[01;32mdedication.tex\u001b[0m*  \u001b[01;32mUntitled0.ipynb\u001b[0m*\r\n"
       ]
      }
     ],
     "prompt_number": 1
    },
    {
     "cell_type": "code",
     "collapsed": false,
     "input": [
      "%load dedication.tex"
     ],
     "language": "python",
     "metadata": {
      "run_control": {
       "breakpoint": false
      }
     },
     "outputs": [],
     "prompt_number": 2
    },
    {
     "cell_type": "code",
     "collapsed": false,
     "input": [
      "\"\"\"\n",
      "% ******************************* Thesis Dedidcation ********************************\n",
      "\n",
      "\\begin{dedication} \n",
      "\n",
      "I would like to dedicate this thesis to my loving parents ...\n",
      "\n",
      "\\end{dedication}\n",
      "\"\"\";\n"
     ],
     "language": "python",
     "metadata": {
      "run_control": {
       "breakpoint": false
      }
     },
     "outputs": [],
     "prompt_number": 6
    },
    {
     "cell_type": "code",
     "collapsed": false,
     "input": [
      "%%writefile dedication.tex\n",
      "\n",
      " ******************************* Thesis Dedidcation ********************************\n",
      "\n",
      "\\begin{dedication} \n",
      "\n",
      "I would like to dedicate this thesis to my loving parents ...\n",
      "\n",
      "\\end{dedication}\n",
      "\n"
     ],
     "language": "python",
     "metadata": {
      "run_control": {
       "breakpoint": false
      }
     },
     "outputs": [
      {
       "output_type": "stream",
       "stream": "stdout",
       "text": [
        "Overwriting dedication.tex\n"
       ]
      }
     ],
     "prompt_number": 5
    },
    {
     "cell_type": "code",
     "collapsed": false,
     "input": [],
     "language": "python",
     "metadata": {
      "run_control": {
       "breakpoint": false
      }
     },
     "outputs": []
    }
   ],
   "metadata": {}
  }
 ]
}
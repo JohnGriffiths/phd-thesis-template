{
 "metadata": {
  "css": [
   ""
  ],
  "name": "",
  "signature": "sha256:922f55bbec53b90ed1cc636328bec1ad7897bc8ddcdb4fbe7a799439b7ea30d3"
 },
 "nbformat": 3,
 "nbformat_minor": 0,
 "worksheets": [
  {
   "cells": [
    {
     "cell_type": "heading",
     "level": 1,
     "metadata": {},
     "source": [
      "Abstract"
     ]
    },
    {
     "cell_type": "markdown",
     "metadata": {},
     "source": [
      "Ok, this is a bit overkill. A simple tex file would do here. "
     ]
    },
    {
     "cell_type": "markdown",
     "metadata": {},
     "source": [
      "I've not decided what I'm going to do. \n",
      "\n",
      "It is, perhaps, convenient at least to use the notebook as an editor and notes repository here. Depends on your point of view. "
     ]
    },
    {
     "cell_type": "code",
     "collapsed": false,
     "input": [
      "#%load abstract.tex"
     ],
     "language": "python",
     "metadata": {
      "run_control": {
       "breakpoint": false
      }
     },
     "outputs": [],
     "prompt_number": 4
    },
    {
     "cell_type": "code",
     "collapsed": false,
     "input": [
      "\"\"\"\n",
      "% ************************** Thesis Abstract *****************************\n",
      "% Use `abstract' as an option in the document class to print only the titlepage and the abstract.\n",
      "\\begin{abstract}\n",
      "This is where you write your abstract ...\n",
      "\\end{abstract}\n",
      "\"\"\";"
     ],
     "language": "python",
     "metadata": {
      "run_control": {
       "breakpoint": false
      }
     },
     "outputs": [],
     "prompt_number": 5
    },
    {
     "cell_type": "code",
     "collapsed": false,
     "input": [
      "%%writefile abstract.tex\n",
      "\n",
      "% ************************** Thesis Abstract *****************************\n",
      "% Use `abstract' as an option in the document class to print only the titlepage and the abstract.\n",
      "\\begin{abstract}\n",
      "This is my abstract. I will write something amazing here. Probably. \n",
      "\\end{abstract}\n"
     ],
     "language": "python",
     "metadata": {
      "run_control": {
       "breakpoint": false
      }
     },
     "outputs": [
      {
       "output_type": "stream",
       "stream": "stdout",
       "text": [
        "Overwriting abstract.tex\n"
       ]
      }
     ],
     "prompt_number": 6
    },
    {
     "cell_type": "code",
     "collapsed": false,
     "input": [],
     "language": "python",
     "metadata": {
      "run_control": {
       "breakpoint": false
      }
     },
     "outputs": [],
     "prompt_number": 6
    },
    {
     "cell_type": "code",
     "collapsed": false,
     "input": [],
     "language": "python",
     "metadata": {
      "run_control": {
       "breakpoint": false
      }
     },
     "outputs": []
    }
   ],
   "metadata": {}
  }
 ]
}
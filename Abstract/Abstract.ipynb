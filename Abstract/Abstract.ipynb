{
 "metadata": {
  "css": [
   ""
  ],
  "name": "",
  "signature": "sha256:6501a27158dcd28f811921f6c77f38b772487e77f44849bb35fff7e3cbd297e8"
 },
 "nbformat": 3,
 "nbformat_minor": 0,
 "worksheets": [
  {
   "cells": [
    {
     "cell_type": "heading",
     "level": 1,
     "metadata": {},
     "source": [
      "Abstract"
     ]
    },
    {
     "cell_type": "markdown",
     "metadata": {},
     "source": [
      "Ok, this is a bit overkill. A simple tex file would do here. \n",
      "\n",
      "I've not decided what I'm going to do. \n",
      "\n",
      "It is, perhaps, convenient at least to use the notebook as an editor and notes repository here. Depends on your point of view. "
     ]
    },
    {
     "cell_type": "code",
     "collapsed": false,
     "input": [
      "#%load abstract.tex"
     ],
     "language": "python",
     "metadata": {
      "run_control": {
       "breakpoint": false
      }
     },
     "outputs": [],
     "prompt_number": 4
    },
    {
     "cell_type": "code",
     "collapsed": false,
     "input": [
      "\"\"\"\n",
      "% ************************** Thesis Abstract *****************************\n",
      "% Use `abstract' as an option in the document class to print only the titlepage and the abstract.\n",
      "\\begin{abstract}\n",
      "This is where you write your abstract ...\n",
      "\\end{abstract}\n",
      "\"\"\";"
     ],
     "language": "python",
     "metadata": {
      "run_control": {
       "breakpoint": false
      }
     },
     "outputs": [],
     "prompt_number": 5
    },
    {
     "cell_type": "code",
     "collapsed": false,
     "input": [
      "%%writefile abstract.tex\n",
      "\n",
      "% ************************** Thesis Abstract *****************************\n",
      "% Use `abstract' as an option in the document class to print only the titlepage and the abstract.\n",
      "\\begin{abstract}\n",
      "This is my abstract. I will write something amazing here. Probably. \n",
      "\\end{abstract}\n"
     ],
     "language": "python",
     "metadata": {
      "run_control": {
       "breakpoint": false
      }
     },
     "outputs": [
      {
       "output_type": "stream",
       "stream": "stdout",
       "text": [
        "Overwriting abstract.tex\n"
       ]
      }
     ],
     "prompt_number": 6
    },
    {
     "cell_type": "code",
     "collapsed": false,
     "input": [],
     "language": "python",
     "metadata": {
      "run_control": {
       "breakpoint": false
      }
     },
     "outputs": [],
     "prompt_number": 6
    },
    {
     "cell_type": "code",
     "collapsed": false,
     "input": [],
     "language": "python",
     "metadata": {
      "run_control": {
       "breakpoint": false
      }
     },
     "outputs": []
    }
   ],
   "metadata": {}
  }
 ]
}
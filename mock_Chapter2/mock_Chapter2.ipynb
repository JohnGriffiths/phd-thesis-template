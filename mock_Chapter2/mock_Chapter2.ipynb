{
 "metadata": {
  "css": [
   ""
  ],
  "name": "",
  "signature": "sha256:3e7c939878cf6b3dff16a7940a16b535c91757161c97d93b60175a18bc6d7ad5"
 },
 "nbformat": 3,
 "nbformat_minor": 0,
 "worksheets": [
  {
   "cells": [
    {
     "cell_type": "heading",
     "level": 1,
     "metadata": {},
     "source": [
      "<center>Mock Chapter 2</center>"
     ]
    },
    {
     "cell_type": "heading",
     "level": 2,
     "metadata": {},
     "source": [
      "<center> Add an exciting chapter 2 sub heading here> </center>"
     ]
    },
    {
     "cell_type": "markdown",
     "metadata": {},
     "source": [
      "***Abstract***"
     ]
    },
    {
     "cell_type": "markdown",
     "metadata": {},
     "source": [
      "Important note about section headings: \n",
      "\n",
      "In order to get both markdown (notebook) and latex playing ball, I:\n",
      "  - Use heading one in the notebook for Chapter number\n",
      "  - Use heading two in notebook for chapter title\n",
      "  - Set chapter heading one block in nbconvert template file to blank\n",
      "  - ...result = heading ones are ommitted in latex docs. Latex adds its own titles anyway (this is why I wanted to sort this). "
     ]
    },
    {
     "cell_type": "markdown",
     "metadata": {},
     "source": [
      "Lorem ipsum blah blah"
     ]
    },
    {
     "cell_type": "heading",
     "level": 2,
     "metadata": {},
     "source": [
      "Background "
     ]
    },
    {
     "cell_type": "markdown",
     "metadata": {},
     "source": [
      "blah blah blah"
     ]
    },
    {
     "cell_type": "heading",
     "level": 2,
     "metadata": {},
     "source": [
      "Methods"
     ]
    },
    {
     "cell_type": "markdown",
     "metadata": {},
     "source": [
      "blah blah blah"
     ]
    },
    {
     "cell_type": "markdown",
     "metadata": {},
     "source": [
      "blah blah blah"
     ]
    },
    {
     "cell_type": "heading",
     "level": 2,
     "metadata": {},
     "source": [
      "Results"
     ]
    },
    {
     "cell_type": "markdown",
     "metadata": {},
     "source": [
      "blah blah blah"
     ]
    },
    {
     "cell_type": "markdown",
     "metadata": {},
     "source": [
      "![Bayes Factors \\label{fig:Bayes factors}](files/figures/dwi_mediation_of_age_fx_on_onset_latency_bayesfactors.png)\n",
      "\n",
      "<center>HTML caption here   - Bayes factors </center>\n",
      "\n"
     ]
    },
    {
     "cell_type": "heading",
     "level": 2,
     "metadata": {},
     "source": [
      "Discussion"
     ]
    },
    {
     "cell_type": "markdown",
     "metadata": {},
     "source": [
      "blah blah blah"
     ]
    }
   ],
   "metadata": {}
  }
 ]
}
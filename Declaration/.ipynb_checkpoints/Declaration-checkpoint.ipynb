{
 "metadata": {
  "name": "",
  "signature": "sha256:1d63373cbfdef40a0aa210dd20384b48d8dafc05dc152f47a11aa8826a77b21e"
 },
 "nbformat": 3,
 "nbformat_minor": 0,
 "worksheets": [
  {
   "cells": [
    {
     "cell_type": "heading",
     "level": 1,
     "metadata": {},
     "source": [
      "Declaration"
     ]
    },
    {
     "cell_type": "markdown",
     "metadata": {},
     "source": [
      "Ok, this is a bit overkill. A simple tex file would do here. \n",
      "\n",
      "I've not decided what I'm going to do. \n",
      "\n",
      "It is, perhaps, convenient at least to use the notebook as an editor and notes repository here. Depends on your point of view. "
     ]
    },
    {
     "cell_type": "code",
     "collapsed": false,
     "input": [
      "ls"
     ],
     "language": "python",
     "metadata": {
      "run_control": {
       "breakpoint": false
      }
     },
     "outputs": [
      {
       "output_type": "stream",
       "stream": "stdout",
       "text": [
        "\u001b[0m\u001b[01;32mdeclaration.aux\u001b[0m*  \u001b[01;32mdeclaration.tex\u001b[0m*  \u001b[01;32mUntitled0.ipynb\u001b[0m*\r\n"
       ]
      }
     ],
     "prompt_number": 1
    },
    {
     "cell_type": "code",
     "collapsed": false,
     "input": [
      "#%load declaration.tex"
     ],
     "language": "python",
     "metadata": {
      "run_control": {
       "breakpoint": false
      }
     },
     "outputs": [],
     "prompt_number": 5
    },
    {
     "cell_type": "code",
     "collapsed": false,
     "input": [
      "\"\"\"\n",
      "% ******************************* Thesis Declaration ********************************\n",
      "\n",
      "\\begin{declaration}\n",
      "\n",
      "I hereby declare that except where specific reference is made to the work of others, the contents of this dissertation are original and have not been submitted in whole or in part for consideration for any other degree or qualification in this, or any other University. This dissertation is the result of my own work and includes nothing which is the outcome of work done in collaboration, except where specifically indicated in the text. This dissertation contains less than 65,000 words including appendices, bibliography, footnotes, tables and equations and has less than 150 figures.\n",
      "\n",
      "% Author and date will be inserted automatically from thesis.tex \\author \\degreedate\n",
      "\n",
      "\\end{declaration}\n",
      "\"\"\";\n"
     ],
     "language": "python",
     "metadata": {
      "run_control": {
       "breakpoint": false
      }
     },
     "outputs": [],
     "prompt_number": 3
    },
    {
     "cell_type": "code",
     "collapsed": false,
     "input": [
      "%%writefile declaration.tex\n",
      "\n",
      "% ******************************* Thesis Declaration ********************************\n",
      "\n",
      "\\begin{declaration}\n",
      "\n",
      "I hereby declare that except where specific reference is made to the work of others, the contents of this dissertation are original and have not been submitted in whole or in part for consideration for any other degree or qualification in this, or any other University. This dissertation is the result of my own work and includes nothing which is the outcome of work done in collaboration, except where specifically indicated in the text. This dissertation contains less than 65,000 words including appendices, bibliography, footnotes, tables and equations and has less than 150 figures.\n",
      "\n",
      "% Author and date will be inserted automatically from thesis.tex \\author \\degreedate\n",
      "\n",
      "\\end{declaration}\n",
      "\n"
     ],
     "language": "python",
     "metadata": {
      "run_control": {
       "breakpoint": false
      }
     },
     "outputs": [
      {
       "output_type": "stream",
       "stream": "stdout",
       "text": [
        "Overwriting declaration.tex\n"
       ]
      }
     ],
     "prompt_number": 4
    },
    {
     "cell_type": "code",
     "collapsed": false,
     "input": [],
     "language": "python",
     "metadata": {
      "run_control": {
       "breakpoint": false
      }
     },
     "outputs": []
    }
   ],
   "metadata": {}
  }
 ]
}
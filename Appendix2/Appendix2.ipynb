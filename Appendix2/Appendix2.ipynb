{
 "metadata": {
  "name": "",
  "signature": "sha256:6a7d7cc3aa962b1138283dabedc7617cf436fa4a690466339ca39b929d15f357"
 },
 "nbformat": 3,
 "nbformat_minor": 0,
 "worksheets": [
  {
   "cells": [
    {
     "cell_type": "heading",
     "level": 1,
     "metadata": {},
     "source": [
      "Appendix 2"
     ]
    },
    {
     "cell_type": "markdown",
     "metadata": {},
     "source": [
      "(note: appendix 1 and appendix 2 are also '/chapters'"
     ]
    },
    {
     "cell_type": "code",
     "collapsed": false,
     "input": [
      "ls"
     ],
     "language": "python",
     "metadata": {
      "run_control": {
       "breakpoint": false
      }
     },
     "outputs": [
      {
       "output_type": "stream",
       "stream": "stdout",
       "text": [
        "\u001b[0m\u001b[01;32mappendix2.aux\u001b[0m*  \u001b[01;32mAppendix2.ipynb\u001b[0m*  \u001b[01;32mappendix2.tex\u001b[0m*\r\n"
       ]
      }
     ],
     "prompt_number": 1
    },
    {
     "cell_type": "code",
     "collapsed": false,
     "input": [
      "%load appendix2.tex"
     ],
     "language": "python",
     "metadata": {
      "run_control": {
       "breakpoint": false
      }
     },
     "outputs": [],
     "prompt_number": 2
    },
    {
     "cell_type": "code",
     "collapsed": false,
     "input": [
      "\"\"\"\n",
      "% ******************************* Thesis Appendix B ********************************\n",
      "\n",
      "\\chapter{Installing the CUED Class file}\n",
      "\n",
      "\\LaTeX.cls files can be accessed system-wide when they are placed in the\n",
      "<texmf>/tex/latex directory, where <texmf> is the root directory of the user\u2019s \\TeX installation. On systems that have a local texmf tree (<texmflocal>), which\n",
      "may be named ``texmf-local'' or ``localtexmf'', it may be advisable to install packages in <texmflocal>, rather than <texmf> as the contents of the former, unlike that of the latter, are preserved after the \\LaTeX system is reinstalled and/or upgraded.\n",
      "\n",
      "It is recommended that the user create a subdirectory <texmf>/tex/latex/CUED for all CUED related \\LaTeX class and package files. On some \\LaTeX systems, the directory look-up tables will need to be refreshed after making additions or deletions to the system files. For \\TeX Live systems this is accomplished via executing ``texhash'' as root. MIK\\TeX users can run ``initexmf -u'' to accomplish the same thing.\n",
      "\n",
      "Users not willing or able to install the files system-wide can install them in their personal directories, but will then have to provide the path (full or relative) in addition to the filename when referring to them in \\LaTeX.\n",
      "\"\"\";\n"
     ],
     "language": "python",
     "metadata": {
      "run_control": {
       "breakpoint": false
      }
     },
     "outputs": [],
     "prompt_number": 3
    },
    {
     "cell_type": "code",
     "collapsed": false,
     "input": [
      "%%writefile appendix2.tex\n",
      "\n",
      "\n",
      "% ******************************* Thesis Appendix B ********************************\n",
      "\n",
      "\\chapter{Installing the CUED Class file}\n",
      "\n",
      "\\LaTeX.cls files can be accessed system-wide when they are placed in the\n",
      "<texmf>/tex/latex directory, where <texmf> is the root directory of the user\u2019s \\TeX installation. On systems that have a local texmf tree (<texmflocal>), which\n",
      "may be named ``texmf-local'' or ``localtexmf'', it may be advisable to install packages in <texmflocal>, rather than <texmf> as the contents of the former, unlike that of the latter, are preserved after the \\LaTeX system is reinstalled and/or upgraded.\n",
      "\n",
      "It is recommended that the user create a subdirectory <texmf>/tex/latex/CUED for all CUED related \\LaTeX class and package files. On some \\LaTeX systems, the directory look-up tables will need to be refreshed after making additions or deletions to the system files. For \\TeX Live systems this is accomplished via executing ``texhash'' as root. MIK\\TeX users can run ``initexmf -u'' to accomplish the same thing.\n",
      "\n",
      "Users not willing or able to install the files system-wide can install them in their personal directories, but will then have to provide the path (full or relative) in addition to the filename when referring to them in \\LaTeX.\n",
      "\n"
     ],
     "language": "python",
     "metadata": {
      "run_control": {
       "breakpoint": false
      }
     },
     "outputs": [
      {
       "output_type": "stream",
       "stream": "stdout",
       "text": [
        "Overwriting appendix2.tex\n"
       ]
      }
     ],
     "prompt_number": 4
    },
    {
     "cell_type": "code",
     "collapsed": false,
     "input": [],
     "language": "python",
     "metadata": {
      "run_control": {
       "breakpoint": false
      }
     },
     "outputs": []
    }
   ],
   "metadata": {}
  }
 ]
}
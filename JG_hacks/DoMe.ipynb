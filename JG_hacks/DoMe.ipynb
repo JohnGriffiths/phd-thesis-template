{
 "metadata": {
  "css": [
   ""
  ],
  "name": "",
  "signature": "sha256:03ae48c820f3d26e1936b20cd7d52573ed3da93d0e521d9fc6681e1f235301f1"
 },
 "nbformat": 3,
 "nbformat_minor": 0,
 "worksheets": [
  {
   "cells": [
    {
     "cell_type": "markdown",
     "metadata": {},
     "source": [
      "(Update:\n",
      " \n",
      " \n",
      " - Spent too long looking into figure re-sizing\n",
      " - TBH, I'm inclined to, in the end, stick with matplotlib\n",
      " - May have to sort stuff on a figure by figure basis\n",
      " - Alternative to matplotlib is image magick's 'convert'\n",
      "   - Rough notebook on 'compile documents' folder with some examples ('Chapter2_rs.ipynb')\n",
      " - Tried changing includegraphics argument and things just got hairy. \n",
      " - Probably will come back to this. "
     ]
    },
    {
     "cell_type": "heading",
     "level": 1,
     "metadata": {},
     "source": [
      "DoMe"
     ]
    },
    {
     "cell_type": "markdown",
     "metadata": {},
     "source": [
      "*(It's like 'ReadMe', for notebooks, innit. Hilarious.*)"
     ]
    },
    {
     "cell_type": "markdown",
     "metadata": {},
     "source": [
      "To achieve our aims we shall do the following:\n",
      "    \n",
      "  - Copy chapter notebooks to this folder\n",
      "  - Merge into one notebook\n",
      "  - Run nbconvert\n",
      "  - Parse the .tex files and place in 'Chapter' folders in main parent directory. \n",
      "  - Run compile-thesis.sh"
     ]
    },
    {
     "cell_type": "markdown",
     "metadata": {},
     "source": [
      "That's nearly everything. \n",
      "\n",
      "It isn't quite everything though. Several other files above folder also need modifying for this to work.\n",
      "\n",
      "I'll note that down here or somewhere. "
     ]
    },
    {
     "cell_type": "markdown",
     "metadata": {},
     "source": [
      "**Let's get cracking.**"
     ]
    },
    {
     "cell_type": "markdown",
     "metadata": {},
     "source": [
      "Setup"
     ]
    },
    {
     "cell_type": "code",
     "collapsed": false,
     "input": [
      "import os\n",
      "import numpy as np\n",
      "from IPython.display import Image, SVG, HTML, display, clear_output"
     ],
     "language": "python",
     "metadata": {
      "run_control": {
       "breakpoint": false
      }
     },
     "outputs": [],
     "prompt_number": 36
    },
    {
     "cell_type": "code",
     "collapsed": false,
     "input": [
      "main_dir = '/media/sf_WINDOWS_D_DRIVE/Neurodebian/code/git_repos/jg_fork_of_kk_phd-thesis-template'\n",
      "thesis_dir = '/media/sf_WINDOWS_D_DRIVE/Neurodebian/code/git_repos/DoctoralThesis'\n",
      "nbc_dir = main_dir + '/JG_hacks/Nbconvertness'\n",
      "\n",
      "\n",
      "do_real =  True\n",
      "chaps2do = [1,2,3,4,5,6,7]\n",
      "\n",
      "\n",
      "do_mock = True #True\n",
      "mockchaps2do = [1,2,3,4]\n"
     ],
     "language": "python",
     "metadata": {
      "run_control": {
       "breakpoint": false
      }
     },
     "outputs": [],
     "prompt_number": 37
    },
    {
     "cell_type": "code",
     "collapsed": false,
     "input": [
      "# (just in case we weren't there already...)\n",
      "os.chdir(main_dir + '/JG_hacks')"
     ],
     "language": "python",
     "metadata": {
      "run_control": {
       "breakpoint": false
      }
     },
     "outputs": [],
     "prompt_number": 38
    },
    {
     "cell_type": "heading",
     "level": 2,
     "metadata": {},
     "source": [
      "Copy over chapter notebooks and figures. "
     ]
    },
    {
     "cell_type": "markdown",
     "metadata": {},
     "source": [
      "Previously, I had been using IPython.display.Image to embed figures in the notebooks. I really would rather do things this way. But turns out that nbconvert uses a different function to embed images than this template seems to expect. Markdown image embedding seems to be done the same , however (with 'includegraphics').\n",
      "\n",
      "So I reluctantly changed all my figures so that they are markdown. \n",
      "\n",
      "An important additional thing necessary to do here was make sure they were the correct dimensions for A4 paper. Embedding images deals with this automatically, but markdown images don't. Also, this means that the images themselves now need to be copied over, and the appropriate paths set. This is done below. \n",
      "\n",
      "Fortunately, it seems that the compile function in this template does a better job than nbconvert's '--post PDF' post-processor when the images don't fit. They still look wrong, but you can see what you need to fix in order to get them correct. \n",
      "\n",
      "\n"
     ]
    },
    {
     "cell_type": "markdown",
     "metadata": {},
     "source": [
      "In the following: \n",
      " - Make a folder for each chapter\n",
      " - Copy the chapter notebook and figures dir into that folder\n",
      " - Make an nbconvert folder and do the nbconvert stuff there\n",
      " - Distribute the results back out to the chapter folders\n",
      " - Compile"
     ]
    },
    {
     "cell_type": "heading",
     "level": 2,
     "metadata": {},
     "source": [
      "Make nbconvert dir"
     ]
    },
    {
     "cell_type": "code",
     "collapsed": false,
     "input": [
      "os.system('rm -r ' + nbc_dir)\n",
      "os.system('mkdir ' + nbc_dir)\n",
      "os.system('mkdir %s/figures' %nbc_dir)\n",
      "os.system('mkdir %s/figures_orig' %nbc_dir)\n"
     ],
     "language": "python",
     "metadata": {
      "run_control": {
       "breakpoint": false
      }
     },
     "outputs": [
      {
       "metadata": {},
       "output_type": "pyout",
       "prompt_number": 39,
       "text": [
        "0"
       ]
      }
     ],
     "prompt_number": 39
    },
    {
     "cell_type": "code",
     "collapsed": false,
     "input": [
      "os.chdir(main_dir + '/JG_Hacks/Nbconvertness')"
     ],
     "language": "python",
     "metadata": {
      "run_control": {
       "breakpoint": false
      }
     },
     "outputs": [],
     "prompt_number": 40
    },
    {
     "cell_type": "code",
     "collapsed": false,
     "input": [
      "# Note this basically deletes everything and starts from scratch!\n",
      "if do_real:\n",
      " os.system('rm -r ' + main_dir + '/Chapter*')\n",
      " for c in chaps2do: \n",
      "  os.system('mkdir ' + main_dir + '/Chapter%s' %c)\n",
      "  os.system('mkdir ' + main_dir + '/Chapter%s/figures' %c)    \n",
      "  os.system('mkdir ' + main_dir + '/Chapter%s/figures_orig' %c)           \n",
      "        \n",
      "  os.system('cp %s/Chapter%s/Chapter%s.ipynb %s/Chapter%s/' %(thesis_dir,c,c,main_dir,c) )\n",
      "  os.system('cp %s/Chapter%s/figures/*.png %s/Chapter%s/figures/' %(thesis_dir,c,main_dir,c) )\n",
      "  os.system('cp %s/Chapter%s/figures/*.png %s/Chapter%s/figures_orig/' %(thesis_dir,c,main_dir,c) )\n",
      "\n",
      "  os.system('cp ' + main_dir + '/Chapter%s/figures/*.png %s/figures/' %(c,nbc_dir))    \n",
      "  os.system('cp ' + main_dir + '/Chapter%s/figures_orig/*.png %s/figures_orig/' %(c,nbc_dir))   \n",
      "        \n",
      "  "
     ],
     "language": "python",
     "metadata": {
      "run_control": {
       "breakpoint": false
      }
     },
     "outputs": [],
     "prompt_number": 41
    },
    {
     "cell_type": "code",
     "collapsed": false,
     "input": [
      "\n",
      "# also copy figures to a common dir in the root foldoer\n",
      "# ...because the chapter parsing was mixing up numbers a bit...\n",
      "# (also added a path in graphicspath to this folder..)\n",
      "os.system('cp -r %s/figures %s/ ' %(nbc_dir,main_dir))  "
     ],
     "language": "python",
     "metadata": {
      "run_control": {
       "breakpoint": false
      }
     },
     "outputs": [
      {
       "metadata": {},
       "output_type": "pyout",
       "prompt_number": 42,
       "text": [
        "0"
       ]
      }
     ],
     "prompt_number": 42
    },
    {
     "cell_type": "heading",
     "level": 3,
     "metadata": {},
     "source": [
      "Resize figures using image magick"
     ]
    },
    {
     "cell_type": "markdown",
     "metadata": {},
     "source": [
      "It's useful to note that I am actually using the full 'nbconvert --to latex --post PDF' function here. So we do also get an nbconverted PDF. I then do some other things with the tex files to get a more fancy PDF that I can submit as-is."
     ]
    },
    {
     "cell_type": "code",
     "collapsed": false,
     "input": [
      "import glob"
     ],
     "language": "python",
     "metadata": {
      "run_control": {
       "breakpoint": false
      }
     },
     "outputs": [],
     "prompt_number": 43
    },
    {
     "cell_type": "code",
     "collapsed": false,
     "input": [
      "# \\newf = f.replace('/figures_orig/', '/figures/')"
     ],
     "language": "python",
     "metadata": {
      "run_control": {
       "breakpoint": false
      }
     },
     "outputs": [],
     "prompt_number": 44
    },
    {
     "cell_type": "code",
     "collapsed": false,
     "input": [
      "\"\"\"\n",
      "if do_real:\n",
      " for c in chaps2do: \n",
      "  for f in glob.glob('%s/Chapter%s/figures_orig/*.png' %(main_dir,c)):\n",
      "   #print f \n",
      "   os.system('convert -size 320x85^ %s %s'  %(f,f.replace('/figures_orig/', '/figures/')))   \n",
      "\"\"\"\n",
      "\n",
      "# skipping this for now; trying the latex command...\n",
      "\"\"\"\n",
      "fs= glob.glob(nbc_dir + '/figures/*.png')\n",
      "for f in fs:\n",
      " print 'applying imagemack convert to %s; size=320x85' %f.split('/figures/')[-1]\n",
      " os.system('convert -size 320x85^ %s %s'  %(f,f) ) #f.replace('/figures_orig/', '/figures/')))\n",
      "    \n",
      "\"\"\";\n"
     ],
     "language": "python",
     "metadata": {
      "run_control": {
       "breakpoint": false
      }
     },
     "outputs": [],
     "prompt_number": 45
    },
    {
     "cell_type": "markdown",
     "metadata": {},
     "source": [
      "**Make template**\n"
     ]
    },
    {
     "cell_type": "code",
     "collapsed": false,
     "input": [
      "%%writefile jg_thesis_nbconvert_template.tplx\n",
      "\n",
      "((= This line inherits from the built in template that you want to use. =))\n",
      "((* extends 'report.tplx' *))\n",
      "\n",
      "((* block date *))\n",
      "\\date{\\today}\n",
      "((* endblock date *))\n",
      "\n",
      "((* block author *))\n",
      "\\author{John David Griffiths}\n",
      "((* endblock author *))\n",
      "\n",
      "((* block title *))\n",
      "\\title{The white matter disonnection syndrome in neurocognitive ageing}\n",
      "((* endblock title *))\n",
      "\n",
      "((* block packages *))\n",
      "((( super() )))\n",
      "\\usepackage[round]{natbib}\n",
      "\\usepackage[doublespacing]{setspace}\n",
      "\\usepackage{parskip}\n",
      "((* endblock packages *))\n",
      "\n",
      "((* block commands *))\n",
      "    % Prevent overflowing lines due to hard-to-break entities\n",
      "    \\sloppy\n",
      "    % Setup hyperref package\n",
      "    \\hypersetup{\n",
      "      breaklinks=true, % so long urls are correctly broken across lines\n",
      "      hidelinks\n",
      "      }\n",
      "    % Slightly bigger margins than the latex defaults\n",
      "    \\geometry{verbose,tmargin=1in,bmargin=1in,lmargin=1in,rmargin=1in}\n",
      "    \n",
      "    %\\parskip=2\\baselineskip \\advance\\parskip by 0pt plus 20pt\n",
      "    \\setlength{\\parskip}{0pt} % 1ex plus 0.5ex minus 0.2ex}\n",
      "    \\setlength{\\parindent}{0pt}\n",
      "\n",
      "((* endblock commands *))\n",
      "\n",
      "((* block bibliography *))\n",
      "\\bibliographystyle{apalike}\n",
      "\\bibliography{Thesis}\n",
      "((* endblock bibliography *))\n",
      "\n",
      "% Disable input cells\n",
      "((* block input_group *))\n",
      "((* endblock input_group *))\n",
      "\n",
      "((= This line selects the cell style. =))\n",
      "((* set cell_style = 'style_bw_python.tplx' *))\n",
      "\n",
      "% Define block headings\n",
      "% Note: latex will only number headings that aren't starred \n",
      "% (i.e. \\subsection , but not \\subsection* )\n",
      "\n",
      "((* block h1 -*))\n",
      "((* endblock h1 -*))\n",
      "((* block h2 -*))\\chapter((* endblock h2 -*))\n",
      "((* block h3 -*))\\section((* endblock h3 -*))\n",
      "((* block h4 -*))\\subsection((* endblock h4 -*))\n",
      "((* block h5 -*))\\subsubsection((* endblock h5 -*))\n",
      "((* block h6 -*))\\paragraph*((* endblock h6 -*))\n",
      "((* block h7 -*))\\subparagraph*((* endblock h7 -*))"
     ],
     "language": "python",
     "metadata": {
      "run_control": {
       "breakpoint": false
      }
     },
     "outputs": [
      {
       "output_type": "stream",
       "stream": "stdout",
       "text": [
        "Writing jg_thesis_nbconvert_template.tplx\n"
       ]
      }
     ],
     "prompt_number": 46
    },
    {
     "cell_type": "markdown",
     "metadata": {},
     "source": [
      "Important note about section headings: \n",
      "\n",
      "In order to get both markdown (notebook) and latex playing ball, I:\n",
      "  - Use heading one in the notebook for Chapter number\n",
      "  - Use heading two in notebook for chapter title\n",
      "  - Set chapter heading one block in nbconvert template file to blank\n",
      "  - ...result = heading ones are ommitted in latex docs. Latex adds its own titles anyway (this is why I wanted to sort this). \n",
      "  \n",
      " \n",
      "I am also, at the moment at least, not using headings for abstract. So that's just bold font markdown. "
     ]
    },
    {
     "cell_type": "code",
     "collapsed": false,
     "input": [
      "\n",
      "\"\"\"\n",
      "((* block h1 -*))\\chapter((* endblock h1 -*))\n",
      "((* block h2 -*))\\section((* endblock h2 -*))\n",
      "((* block h3 -*))\\subsection((* endblock h3 -*))\n",
      "((* block h4 -*))\\subsubsection((* endblock h4 -*))\n",
      "((* block h5 -*))\\paragraph((* endblock h5 -*))\n",
      "((* block h6 -*))\\subparagraph((* endblock h6 -*))\n",
      "\n",
      "\"\"\";"
     ],
     "language": "python",
     "metadata": {
      "run_control": {
       "breakpoint": false
      }
     },
     "outputs": [],
     "prompt_number": 47
    },
    {
     "cell_type": "code",
     "collapsed": false,
     "input": [
      "#%load jg_thesis_nbconvert_template.tplx"
     ],
     "language": "python",
     "metadata": {
      "run_control": {
       "breakpoint": false
      }
     },
     "outputs": [],
     "prompt_number": 48
    },
    {
     "cell_type": "markdown",
     "metadata": {},
     "source": [
      "**Copy over bibliography**"
     ]
    },
    {
     "cell_type": "code",
     "collapsed": false,
     "input": [
      "os.system('cp /media/sf_WINDOWS_D_DRIVE/CloudStorage/Dropbox/Mendeley/Bibtex_sync/AspiraJohn/Thesis.bib %s/' %nbc_dir)"
     ],
     "language": "python",
     "metadata": {
      "run_control": {
       "breakpoint": false
      }
     },
     "outputs": [
      {
       "metadata": {},
       "output_type": "pyout",
       "prompt_number": 49,
       "text": [
        "0"
       ]
      }
     ],
     "prompt_number": 49
    },
    {
     "cell_type": "markdown",
     "metadata": {},
     "source": [
      "also copy to the 'References' folder, and rename"
     ]
    },
    {
     "cell_type": "code",
     "collapsed": false,
     "input": [
      "\n",
      "os.system('cp %s/Thesis.bib %s/References/references.bib' %(nbc_dir, main_dir))"
     ],
     "language": "python",
     "metadata": {
      "run_control": {
       "breakpoint": false
      }
     },
     "outputs": [
      {
       "metadata": {},
       "output_type": "pyout",
       "prompt_number": 50,
       "text": [
        "0"
       ]
      }
     ],
     "prompt_number": 50
    },
    {
     "cell_type": "markdown",
     "metadata": {},
     "source": [
      "**Merge chapters**"
     ]
    },
    {
     "cell_type": "markdown",
     "metadata": {},
     "source": [
      "(Add notes about nbmerge? )"
     ]
    },
    {
     "cell_type": "code",
     "collapsed": false,
     "input": [
      "os.system('cp %s/Compile_Documents/jg_nbmerge.py %s ' %(thesis_dir, nbc_dir) )"
     ],
     "language": "python",
     "metadata": {
      "run_control": {
       "breakpoint": false
      }
     },
     "outputs": [
      {
       "metadata": {},
       "output_type": "pyout",
       "prompt_number": 51,
       "text": [
        "0"
       ]
      }
     ],
     "prompt_number": 51
    },
    {
     "cell_type": "code",
     "collapsed": false,
     "input": [
      "if do_real:\n",
      " dirstr = ' '.join(['%s/Chapter%s/Chapter%s.ipynb ' %(main_dir,c,c) for c in chaps2do])\n",
      " !python $nbc_dir/jg_nbmerge.py $dirstr > $nbc_dir/jg_thesis_chapters.ipynb"
     ],
     "language": "python",
     "metadata": {
      "run_control": {
       "breakpoint": false
      }
     },
     "outputs": [],
     "prompt_number": 52
    },
    {
     "cell_type": "code",
     "collapsed": false,
     "input": [
      "if do_mock:\n",
      " dirstr = ' '.join(['%s/mock_Chapter%s/mock_Chapter%s.ipynb ' %(main_dir,c,c) for c in mockchaps2do])\n",
      " !python $nbc_dir/jg_nbmerge.py $dirstr > $nbc_dir/jg_mock_thesis_chapters.ipynb"
     ],
     "language": "python",
     "metadata": {
      "run_control": {
       "breakpoint": false
      }
     },
     "outputs": [],
     "prompt_number": 53
    },
    {
     "cell_type": "markdown",
     "metadata": {},
     "source": [
      "**Run nbconvert**"
     ]
    },
    {
     "cell_type": "code",
     "collapsed": false,
     "input": [
      "if do_real:\n",
      " !ipython nbconvert --to latex --post PDF --template jg_thesis_nbconvert_template.tplx jg_thesis_chapters.ipynb\n",
      " clear_output()\n",
      " print 'nbconvert finished.'\n",
      "    "
     ],
     "language": "python",
     "metadata": {
      "run_control": {
       "breakpoint": false
      }
     },
     "outputs": [
      {
       "output_type": "stream",
       "stream": "stdout",
       "text": [
        "nbconvert finished.\n"
       ]
      }
     ],
     "prompt_number": 54
    },
    {
     "cell_type": "code",
     "collapsed": false,
     "input": [],
     "language": "python",
     "metadata": {
      "run_control": {
       "breakpoint": false
      }
     },
     "outputs": [],
     "prompt_number": 54
    },
    {
     "cell_type": "code",
     "collapsed": false,
     "input": [
      "\"\"\"\n",
      "%((* block h1 -*))\\chapter((* endblock h1 -*))\n",
      "%((* block h2 -*))\\section((* endblock h2 -*))\n",
      "%((* block h3 -*))\\subsection((* endblock h3 -*))\n",
      "%((* block h4 -*))\\subsubsection((* endblock h4 -*))\n",
      "%((* block h5 -*))\\paragraph((* endblock h5 -*))\n",
      "%((* block h6 -*))\\subparagraph((* endblock h6 -*))\n",
      "\"\"\";"
     ],
     "language": "python",
     "metadata": {
      "run_control": {
       "breakpoint": false
      }
     },
     "outputs": [],
     "prompt_number": 55
    },
    {
     "cell_type": "code",
     "collapsed": false,
     "input": [
      "if do_mock:\n",
      " !ipython nbconvert --to latex --post PDF --template jg_thesis_nbconvert_template.tplx jg_mock_thesis_chapters.ipynb\n",
      "\n",
      " clear_output()\n",
      " print 'nbconvert finished. '\n"
     ],
     "language": "python",
     "metadata": {
      "run_control": {
       "breakpoint": false
      }
     },
     "outputs": [
      {
       "output_type": "stream",
       "stream": "stdout",
       "text": [
        "nbconvert finished. \n"
       ]
      }
     ],
     "prompt_number": 56
    },
    {
     "cell_type": "heading",
     "level": 2,
     "metadata": {},
     "source": [
      "Parse the .tex file and put in chapter dirs in main folder"
     ]
    },
    {
     "cell_type": "markdown",
     "metadata": {},
     "source": [
      "The .tex file from nbconvert includes /documentclass and /usepackages etc. stuff that I don't need. \n",
      "\n",
      "All I need are the chapters. \n",
      "\n",
      "Need to do the following:\n",
      "\n",
      "Need to do the following: \n",
      "    \n",
      "  - Split the .tex file at every occurrence of '/chapter'. \n",
      "  - For each chapter, add an extra bit of text  below /chapter saying the location of the figures\n",
      "  - Make a folder in the main folder for each chapter, and put the newly parsed .tex file "
     ]
    },
    {
     "cell_type": "code",
     "collapsed": false,
     "input": [
      "addit = '\\n\\n \\chapter \\n\\n \\graphicspath{{Chapter%s/figures/}} \\n\\n'\n",
      "mock_addit = '\\n\\n \\chapter \\n\\n \\graphicspath{{mock_Chapter%s/figures/}} \\n\\n'"
     ],
     "language": "python",
     "metadata": {
      "run_control": {
       "breakpoint": false
      }
     },
     "outputs": [],
     "prompt_number": 57
    },
    {
     "cell_type": "markdown",
     "metadata": {},
     "source": [
      "Note: I think actually the ignore-heading-1 thing you're doing here isn't working. It's ending up at the end of the previous chapter. \n",
      "\n",
      "\n",
      "Might be better to have a clearer loop for the parsing, with separate lines for each bit. That would clearer and more extensible. "
     ]
    },
    {
     "cell_type": "markdown",
     "metadata": {},
     "source": [
      "My chapters"
     ]
    },
    {
     "cell_type": "code",
     "collapsed": false,
     "input": [
      "numwords = {1:'One', 2:'Two', 3:'Three',4:'Four', 5:'Five', 6:'Six', 7: 'Seven', 8: 'Eight'}"
     ],
     "language": "python",
     "metadata": {
      "run_control": {
       "breakpoint": false
      }
     },
     "outputs": [],
     "prompt_number": 62
    },
    {
     "cell_type": "code",
     "collapsed": false,
     "input": [
      "if do_real:\n",
      " #mock_addit = '\\n\\n \\chapter%s} \\n\\n \\graphicspath{{mock_Chapter%s/figures/}} \\n\\n %s'\n",
      " #addit = '\\n\\n \\chapter%s} \\n\\n \\graphicspath{{Chapter%s/}} \\n\\n %s'\n",
      "\n",
      " thetex = open(nbc_dir + '/jg_thesis_chapters.tex', 'r').read()\n",
      " chapchunks = ['\\chapter' + c for c in ''.join(thetex).split('\\chapter')][1:]\n",
      " parsedchunks = []\n",
      " for c_it, c in enumerate(chaps2do):\n",
      "        \n",
      "  ch = chapchunks[c_it]      \n",
      "  # This is a bit clumsy, but haven't found a better solution yet. I want to be able to write 'Chapter 1', etc.\n",
      "  # In the notebook, but latex adds that in for me according to \\chapter sections.\n",
      "  # So solution = I use word numbers, and parse out that text here\n",
      "  # The text to replace will look like {Chapter One}        \n",
      "  ch = ch.replace('{Chapter ' + numwords[c] + '}', '')\n",
      "  \n",
      "  # Caption stuff: \n",
      "  # This is the solution I came up with to give me the short caption / long caption and label format used \n",
      "  # in this latex template. In the markdown cells with figures in, the latex captions are written asa\n",
      "  # ![SHORTCAPTION= blah blah blah LONGCAPTION= blah blah blah LABEL= blah blah blah ]\n",
      "  ch = ch.replace('{SHORTCAPTION=', '[')\\\n",
      "         .replace('LONGCAPTION=',']{')\n",
      "        \n",
      "  # 'LABEL' - NOT DOING THIS YET \n",
      "  #c = ''.join(cc[0] + '\\\\label{fig:' + cc.split('}')[0] + '}' for cc in c.split('LABEL='))\n",
      "        \n",
      "  # The [H] is supposed to make the image and caption stick together as a block, or something like that        \n",
      "  # REMOVED - IS THIS STICKING ALL THE FIGS AT THE END OF EACH CHAPTER??        \n",
      "  #c = c.replace('[htbp]', '[H]')\n",
      "  \n",
      "  # Add in a subtitle; need to replace {title} with [title]{subtitle}\n",
      "  # (that's not quite right. Not doing this. \n",
      "        \n",
      "        \n",
      "  # Add graphics path\n",
      "  ch = ch.split('}')[0] + \\\n",
      "        '} \\n\\n \\graphicspath{{},{Chapter' + str(c) + '/}} \\n\\n '   + \\\n",
      "        '}'.join(ch.split('}')[1:]) \n",
      "\n",
      "  #add a resize figures command - COMMENTE OUT. SEEMS TO MESS UP COMPILATION. \n",
      "  #c = c.replace('includegraphics{', 'includegraphics[width=0.7\\\\textwidth]{' )        \n",
      "        \n",
      "  parsedchunks.append(ch)\n",
      "\n",
      "  open(main_dir + '/Chapter%s/chapter%s.tex' %(c,c), 'w').writelines(ch)        \n",
      "   \n",
      "  # Coud add: something for getting chapter short and long titeles...      \n",
      "        \n",
      "\"\"\"\n",
      "#parsedtex = [addit %(s.split('}')[0],s_it,'}'.join(s.split('}')[1:]))\\\n",
      "#             for s_it, s in enumerate(''.join(thetex).split('\\chapter'))][1:]\n",
      "#parsedtex_mod = [p.replace('{SHORTCAPTION=', '[').replace('LONGCAPTION=',']{').replace('[htbp]', '[H]') for p in parsedtex]\n",
      "#parsedtex = [mock_addit %s_it + s for s_it, s in enumerate(''.join(thetex).split('\\chapter'))][1:]\n",
      "#for p_it, p in enumerate(parsedtex): open(main_dir + 'Chapter%s/chapter%s.tex' %(p_it+1, p_it+1), 'w').writelines(p)\n",
      "#for c,p in zip(chaps2do, parsedtex_mod): open(main_dir + '/Chapter%s/chapter%s.tex' %(c,c), 'w').writelines(p)\n",
      "\"\"\";"
     ],
     "language": "python",
     "metadata": {
      "run_control": {
       "breakpoint": false
      }
     },
     "outputs": [],
     "prompt_number": 63
    },
    {
     "cell_type": "code",
     "collapsed": false,
     "input": [
      "\"\"\"\n",
      "if do_real:\n",
      " #mock_addit = '\\n\\n \\chapter%s} \\n\\n \\graphicspath{{mock_Chapter%s/figures/}} \\n\\n %s'\n",
      " addit = '\\n\\n \\chapter%s} \\n\\n \\graphicspath{{Chapter%s/}} \\n\\n %s'\n",
      "\n",
      " thetex = open(nbc_dir + '/jg_thesis_chapters.tex', 'r').read()\n",
      " parsedtex = [addit %(s.split('}')[0],s_it,'}'.join(s.split('}')[1:]))\\\n",
      "              for s_it, s in enumerate(''.join(thetex).split('\\chapter'))][1:]\n",
      " parsedtex_mod = [p.replace('{SHORTCAPTION=', '[').replace('LONGCAPTION=',']{').replace('[htbp]', '[H]') for p in parsedtex]\n",
      "    \n",
      " #parsedtex = [mock_addit %s_it + s for s_it, s in enumerate(''.join(thetex).split('\\chapter'))][1:]\n",
      " #for p_it, p in enumerate(parsedtex): open(main_dir + 'Chapter%s/chapter%s.tex' %(p_it+1, p_it+1), 'w').writelines(p)\n",
      " for c,p in zip(chaps2do, parsedtex_mod): open(main_dir + '/Chapter%s/chapter%s.tex' %(c,c), 'w').writelines(p)\n",
      "\"\"\";"
     ],
     "language": "python",
     "metadata": {
      "run_control": {
       "breakpoint": false
      }
     },
     "outputs": [],
     "prompt_number": 60
    },
    {
     "cell_type": "markdown",
     "metadata": {},
     "source": [
      "Mock chapters"
     ]
    },
    {
     "cell_type": "code",
     "collapsed": false,
     "input": [
      "if do_mock:\n",
      " #mock_addit = '\\n\\n \\chapter%s} \\n\\n \\graphicspath{{mock_Chapter%s/figures/}} \\n\\n %s'\n",
      " #addit = '\\n\\n \\chapter%s} \\n\\n \\graphicspath{{Chapter%s/}} \\n\\n %s'\n",
      "\n",
      " thetex = open(nbc_dir + '/mock_jg_thesis_chapters.tex', 'r').read()\n",
      " chapchunks = ['\\chapter' + c for c in ''.join(thetex).split('\\chapter')][1:]\n",
      " parsedchunks = []\n",
      " for c_it, c in enumerate(mockchaps2do):\n",
      "        \n",
      "  ch = chapchunks[c_it]      \n",
      "  # This is a bit clumsy, but haven't found a better solution yet. I want to be able to write 'Chapter 1', etc.\n",
      "  # In the notebook, but latex adds that in for me according to \\chapter sections.\n",
      "  # So solution = I use word numbers, and parse out that text here\n",
      "  # The text to replace will look like {Chapter One}        \n",
      "  ch = ch.replace('{Chapter ' + numwords[c] + '}', '')\n",
      "  \n",
      "  # Caption stuff: \n",
      "  # This is the solution I came up with to give me the short caption / long caption and label format used \n",
      "  # in this latex template. In the markdown cells with figures in, the latex captions are written asa\n",
      "  # ![SHORTCAPTION= blah blah blah LONGCAPTION= blah blah blah LABEL= blah blah blah ]\n",
      "  ch = ch.replace('{SHORTCAPTION=', '[')\\\n",
      "         .replace('LONGCAPTION=',']{')\n",
      "        \n",
      "  # 'LABEL' - NOT DOING THIS YET \n",
      "  #c = ''.join(cc[0] + '\\\\label{fig:' + cc.split('}')[0] + '}' for cc in c.split('LABEL='))\n",
      "        \n",
      "  # The [H] is supposed to make the image and caption stick together as a block, or something like that        \n",
      "  # REMOVED - IS THIS STICKING ALL THE FIGS AT THE END OF EACH CHAPTER??        \n",
      "  #c = c.replace('[htbp]', '[H]')\n",
      "  \n",
      "  # Add in a subtitle; need to replace {title} with [title]{subtitle}\n",
      "  # (that's not quite right. Not doing this. \n",
      "        \n",
      "        \n",
      "  # Add graphics path\n",
      "  ch = ch.split('}')[0] + \\\n",
      "        '} \\n\\n \\graphicspath{{},Chapter' + str(c) + '/}} \\n\\n '   + \\\n",
      "        '}'.join(ch.split('}')[1:]) \n",
      "\n",
      "  #add a resize figures command - COMMENTE OUT. SEEMS TO MESS UP COMPILATION. \n",
      "  #c = c.replace('includegraphics{', 'includegraphics[width=0.7\\\\textwidth]{' )        \n",
      "        \n",
      "  parsedchunks.append(ch)\n",
      "\n",
      "  open(main_dir + '/mock_Chapter%s/mock_chapter%s.tex' %(c,c), 'w').writelines(ch)        \n",
      "   \n",
      "  # Coud add: something for getting chapter short and long titeles...      \n",
      "        \n",
      "\"\"\"\n",
      "#parsedtex = [addit %(s.split('}')[0],s_it,'}'.join(s.split('}')[1:]))\\\n",
      "#             for s_it, s in enumerate(''.join(thetex).split('\\chapter'))][1:]\n",
      "#parsedtex_mod = [p.replace('{SHORTCAPTION=', '[').replace('LONGCAPTION=',']{').replace('[htbp]', '[H]') for p in parsedtex]\n",
      "#parsedtex = [mock_addit %s_it + s for s_it, s in enumerate(''.join(thetex).split('\\chapter'))][1:]\n",
      "#for p_it, p in enumerate(parsedtex): open(main_dir + 'Chapter%s/chapter%s.tex' %(p_it+1, p_it+1), 'w').writelines(p)\n",
      "#for c,p in zip(chaps2do, parsedtex_mod): open(main_dir + '/Chapter%s/chapter%s.tex' %(c,c), 'w').writelines(p)\n",
      "\"\"\";"
     ],
     "language": "python",
     "metadata": {
      "run_control": {
       "breakpoint": false
      }
     },
     "outputs": [
      {
       "ename": "IOError",
       "evalue": "[Errno 2] No such file or directory: '/media/sf_WINDOWS_D_DRIVE/Neurodebian/code/git_repos/jg_fork_of_kk_phd-thesis-template/JG_hacks/Nbconvertness/mock_jg_thesis_chapters.tex'",
       "output_type": "pyerr",
       "traceback": [
        "\u001b[1;31m---------------------------------------------------------------------------\u001b[0m\n\u001b[1;31mIOError\u001b[0m                                   Traceback (most recent call last)",
        "\u001b[1;32m<ipython-input-61-9dae5d730bd3>\u001b[0m in \u001b[0;36m<module>\u001b[1;34m()\u001b[0m\n\u001b[0;32m      3\u001b[0m  \u001b[1;31m#addit = '\\n\\n \\chapter%s} \\n\\n \\graphicspath{{Chapter%s/}} \\n\\n %s'\u001b[0m\u001b[1;33m\u001b[0m\u001b[1;33m\u001b[0m\u001b[0m\n\u001b[0;32m      4\u001b[0m \u001b[1;33m\u001b[0m\u001b[0m\n\u001b[1;32m----> 5\u001b[1;33m  \u001b[0mthetex\u001b[0m \u001b[1;33m=\u001b[0m \u001b[0mopen\u001b[0m\u001b[1;33m(\u001b[0m\u001b[0mnbc_dir\u001b[0m \u001b[1;33m+\u001b[0m \u001b[1;34m'/mock_jg_thesis_chapters.tex'\u001b[0m\u001b[1;33m,\u001b[0m \u001b[1;34m'r'\u001b[0m\u001b[1;33m)\u001b[0m\u001b[1;33m.\u001b[0m\u001b[0mread\u001b[0m\u001b[1;33m(\u001b[0m\u001b[1;33m)\u001b[0m\u001b[1;33m\u001b[0m\u001b[0m\n\u001b[0m\u001b[0;32m      6\u001b[0m  \u001b[0mchapchunks\u001b[0m \u001b[1;33m=\u001b[0m \u001b[1;33m[\u001b[0m\u001b[1;34m'\\chapter'\u001b[0m \u001b[1;33m+\u001b[0m \u001b[0mc\u001b[0m \u001b[1;32mfor\u001b[0m \u001b[0mc\u001b[0m \u001b[1;32min\u001b[0m \u001b[1;34m''\u001b[0m\u001b[1;33m.\u001b[0m\u001b[0mjoin\u001b[0m\u001b[1;33m(\u001b[0m\u001b[0mthetex\u001b[0m\u001b[1;33m)\u001b[0m\u001b[1;33m.\u001b[0m\u001b[0msplit\u001b[0m\u001b[1;33m(\u001b[0m\u001b[1;34m'\\chapter'\u001b[0m\u001b[1;33m)\u001b[0m\u001b[1;33m]\u001b[0m\u001b[1;33m[\u001b[0m\u001b[1;36m1\u001b[0m\u001b[1;33m:\u001b[0m\u001b[1;33m]\u001b[0m\u001b[1;33m\u001b[0m\u001b[0m\n\u001b[0;32m      7\u001b[0m  \u001b[0mparsedchunks\u001b[0m \u001b[1;33m=\u001b[0m \u001b[1;33m[\u001b[0m\u001b[1;33m]\u001b[0m\u001b[1;33m\u001b[0m\u001b[0m\n",
        "\u001b[1;31mIOError\u001b[0m: [Errno 2] No such file or directory: '/media/sf_WINDOWS_D_DRIVE/Neurodebian/code/git_repos/jg_fork_of_kk_phd-thesis-template/JG_hacks/Nbconvertness/mock_jg_thesis_chapters.tex'"
       ]
      }
     ],
     "prompt_number": 61
    },
    {
     "cell_type": "code",
     "collapsed": false,
     "input": [
      "\n",
      "\"\"\"\n",
      "if do_mock:\n",
      " #mock_addit = '\\n\\n \\chapter%s} \\n\\n \\graphicspath{{mock_Chapter%s/figures/}} \\n\\n %s'\n",
      " mock_addit = '\\n\\n \\chapter%s} \\n\\n \\graphicspath{{mock_Chapter%s/}} \\n\\n %s'\n",
      "\n",
      " thetex = open(nbc_dir + '/jg_mock_thesis_chapters.tex', 'r').read()\n",
      " parsedtex = [mock_addit %(s.split('}')[0],s_it,'}'.join(s.split('}')[1:]))\\\n",
      "              for s_it, s in enumerate(''.join(thetex).split('\\chapter'))][1:]\n",
      " #parsedtex = [mock_addit %s_it + s for s_it, s in enumerate(''.join(thetex).split('\\chapter'))][1:]\n",
      " #for p_it, p in enumerate(parsedtex): open(main_dir + 'Chapter%s/chapter%s.tex' %(p_it+1, p_it+1), 'w').writelines(p)\n",
      " parsedtex_mod = [p.replace('{SHORTCAPTION=', '[').replace('LONGCAPTION=',']{').replace('[htbp]', '[H]') for p in parsedtex]\n",
      "    \n",
      "for c,p in zip(mockchaps2do, parsedtex_mod): open(main_dir + '/mock_Chapter%s/mock_chapter%s.tex' %(c,c), 'w').writelines(p)\n",
      "\n",
      "\n",
      "\"\"\";\n"
     ],
     "language": "python",
     "metadata": {
      "run_control": {
       "breakpoint": false
      }
     },
     "outputs": []
    },
    {
     "cell_type": "markdown",
     "metadata": {},
     "source": [
      "- The 'SHORTCAPTION' replace stuff basically allows you to have a square brackets short caption, followed by a curly brackets long caption. e.g., \n"
     ]
    },
    {
     "cell_type": "markdown",
     "metadata": {},
     "source": [
      "```![SHORTCAPTION=JHU tracts.LONGCAPTION={Adding a fuller caption which is what I woudl like to say about the JHU tracts. Hopefuly this will not appear in the list of figures. If the label tag does its job, I think that's what should happen. But there's also this issue about closing the square bracket... \\label{fig:JHU tracts](files/figures/Ch2_JHU_tracts.png)```"
     ]
    },
    {
     "cell_type": "markdown",
     "metadata": {},
     "source": [
      "...which doesn't appear to be achievable via conventiona lmarkdown syntax. It's important for the thesis compilation because the 'list of figures' will include the full caption, if there isn't a square brackets one next to it. \n",
      "\n",
      "See the 'mock_Chapter1' notebook for examples"
     ]
    },
    {
     "cell_type": "heading",
     "level": 2,
     "metadata": {},
     "source": [
      "Compile"
     ]
    },
    {
     "cell_type": "code",
     "collapsed": false,
     "input": [
      "os.chdir(main_dir)"
     ],
     "language": "python",
     "metadata": {
      "run_control": {
       "breakpoint": false
      }
     },
     "outputs": []
    },
    {
     "cell_type": "code",
     "collapsed": false,
     "input": [
      "if do_real:\n",
      " !sh compile-thesis.sh compile thesis\n",
      " !okular thesis.pdf  \n",
      "    "
     ],
     "language": "python",
     "metadata": {
      "run_control": {
       "breakpoint": false
      }
     },
     "outputs": []
    },
    {
     "cell_type": "code",
     "collapsed": false,
     "input": [
      "if do_mock:\n",
      " !sh compile-thesis.sh compile mock_thesis\n",
      " !okular mock_thesis.pdf  \n",
      " "
     ],
     "language": "python",
     "metadata": {
      "run_control": {
       "breakpoint": false
      }
     },
     "outputs": []
    },
    {
     "cell_type": "code",
     "collapsed": false,
     "input": [
      "print 'finished!'"
     ],
     "language": "python",
     "metadata": {
      "run_control": {
       "breakpoint": false
      }
     },
     "outputs": []
    },
    {
     "cell_type": "heading",
     "level": 3,
     "metadata": {},
     "source": [
      "Word count"
     ]
    },
    {
     "cell_type": "markdown",
     "metadata": {},
     "source": [
      "THE LIMIT FOR THESES IS 60,000. \n",
      "\n",
      "(Including intro and headers etc??)\n"
     ]
    },
    {
     "cell_type": "heading",
     "level": 5,
     "metadata": {},
     "source": [
      "Getting the word count"
     ]
    },
    {
     "cell_type": "markdown",
     "metadata": {},
     "source": [
      "Apparently this is really difficult to do. \n",
      "\n",
      "Discussion of this here\n",
      "\n",
      "http://tex.stackexchange.com/questions/534/is-there-any-way-to-do-a-correct-word-count-of-a-latex-document"
     ]
    },
    {
     "cell_type": "code",
     "collapsed": false,
     "input": [
      "import numpy as np\n",
      "import pandas as pd\n"
     ],
     "language": "python",
     "metadata": {
      "run_control": {
       "breakpoint": false
      }
     },
     "outputs": []
    },
    {
     "cell_type": "markdown",
     "metadata": {},
     "source": [
      "I'm opting for 'texcount'. Gives the following kind of output"
     ]
    },
    {
     "cell_type": "code",
     "collapsed": false,
     "input": [
      "!texcount ../Chapter1/chapter1.tex"
     ],
     "language": "python",
     "metadata": {
      "run_control": {
       "breakpoint": false
      }
     },
     "outputs": []
    },
    {
     "cell_type": "markdown",
     "metadata": {},
     "source": [
      "Doing this for all chapters: "
     ]
    },
    {
     "cell_type": "code",
     "collapsed": false,
     "input": [
      "res1 = !texcount ../Chapter1/chapter1.tex\n",
      "res2 = !texcount ../Chapter2/chapter2.tex\n",
      "res3 = !texcount ../Chapter3/chapter3.tex\n",
      "res4 = !texcount ../Chapter4/chapter4.tex\n",
      "res5 = !texcount ../Chapter5/chapter5.tex\n",
      "res6 = !texcount ../Chapter6/chapter6.tex\n",
      "res7 = !texcount ../Chapter7/chapter7.tex"
     ],
     "language": "python",
     "metadata": {
      "run_control": {
       "breakpoint": false
      }
     },
     "outputs": []
    },
    {
     "cell_type": "code",
     "collapsed": false,
     "input": [
      "runsumlist = [] ; matchme = 'Words in text'\n",
      "for r_it,r in enumerate([res1,res2,res3,res4,res5,res6,res7]): \n",
      " for rr in r: \n",
      "  if matchme in rr:\n",
      "   print '\\nChapter %s: %s' %(r_it+1,rr)\n",
      "   runsumlist.append(rr.split(' ')[-1])\n",
      "            \n",
      "print '\\ntotal words: %1.0f' %pd.DataFrame(runsumlist).astype('int').sum().values[0]"
     ],
     "language": "python",
     "metadata": {
      "run_control": {
       "breakpoint": false
      }
     },
     "outputs": []
    },
    {
     "cell_type": "markdown",
     "metadata": {},
     "source": [
      "Alternative, using pdftotext, counts more words. "
     ]
    },
    {
     "cell_type": "code",
     "collapsed": false,
     "input": [
      "# Alternative using pdftotext:\n",
      "!pdftotext ../thesis.pdf - | wc -w"
     ],
     "language": "python",
     "metadata": {
      "run_control": {
       "breakpoint": false
      }
     },
     "outputs": []
    },
    {
     "cell_type": "markdown",
     "metadata": {},
     "source": [
      "This will include page numbers etc., so is to be expected. And may also have unpredictably behaviour re: equations. So wouldb't be expected to be bang on. But helps complement the other methd. Seems to be favoured along with texcount in post listed above. "
     ]
    },
    {
     "cell_type": "markdown",
     "metadata": {},
     "source": [
      "Another alternative, which is clearly wrong (perhaps need different .dvis for whole thesis or for each chapter??)"
     ]
    },
    {
     "cell_type": "code",
     "collapsed": false,
     "input": [
      "!catdvi ../thesis.dvi | wc -w"
     ],
     "language": "python",
     "metadata": {
      "run_control": {
       "breakpoint": false
      }
     },
     "outputs": []
    },
    {
     "cell_type": "heading",
     "level": 2,
     "metadata": {},
     "source": [
      "Graveyard"
     ]
    },
    {
     "cell_type": "code",
     "collapsed": false,
     "input": [
      "\"\"\"\n",
      "#http://stackoverflow.com/questions/19575702/pythonhow-to-split-file-into-chunks-by-the-occurrence-of-the-header-word\n",
      "\n",
      "\n",
      "fname = 'jg_thesis_chapters.tex'\n",
      "#main_dir = '../newf =  'kk_latex_template/jg_Chapter2/jg_parsed_chapter_'\n",
      "token = '\\chapter'\n",
      "chunks = []\n",
      "current_chunk = []\n",
      "\n",
      "for line in open(fname):\n",
      "   #if line.startswith(token) and current_chunk: \n",
      "   if token in line and current_chunk:        \n",
      "      # if line starts with token and the current chunk is not empty\n",
      "      chunks.append(current_chunk[:]) #  add not empty chunk to chunks\n",
      "      current_chunk = [] #  make current chunk blank\n",
      "   # just append a line to the current chunk on each iteration\n",
      "   current_chunk.append(line)\n",
      "\n",
      "chunks.append(current_chunk)  #  append the last chunk outside the loop\n",
      "#So having file with contents:\n",
      "\n",
      "for c_it, c in enumerate(chunks[1:]):\n",
      " f = open('%s_%s.tex' %(newf,c_it+1), 'w')\n",
      " crep = [cc.replace('.png', '') for cc in c]\n",
      " f.writelines(crep)#c) \n",
      " f.close()\n",
      "    \n",
      "#%load newtexfile.tex\n",
      "\"\"\";"
     ],
     "language": "python",
     "metadata": {
      "run_control": {
       "breakpoint": false
      }
     },
     "outputs": []
    },
    {
     "cell_type": "code",
     "collapsed": false,
     "input": [],
     "language": "python",
     "metadata": {
      "run_control": {
       "breakpoint": false
      }
     },
     "outputs": []
    },
    {
     "cell_type": "code",
     "collapsed": false,
     "input": [],
     "language": "python",
     "metadata": {
      "run_control": {
       "breakpoint": false
      }
     },
     "outputs": []
    },
    {
     "cell_type": "code",
     "collapsed": false,
     "input": [],
     "language": "python",
     "metadata": {
      "run_control": {
       "breakpoint": false
      }
     },
     "outputs": []
    },
    {
     "cell_type": "code",
     "collapsed": false,
     "input": [],
     "language": "python",
     "metadata": {
      "run_control": {
       "breakpoint": false
      }
     },
     "outputs": []
    },
    {
     "cell_type": "code",
     "collapsed": false,
     "input": [],
     "language": "python",
     "metadata": {
      "run_control": {
       "breakpoint": false
      }
     },
     "outputs": []
    }
   ],
   "metadata": {}
  }
 ]
}
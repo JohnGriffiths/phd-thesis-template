{
 "metadata": {
  "css": [
   ""
  ],
  "name": "",
  "signature": "sha256:0297a2243aa5b8e7f77f9dd224cfd428e0fdafdbbfe8d4719deca5252fbfcff9"
 },
 "nbformat": 3,
 "nbformat_minor": 0,
 "worksheets": [
  {
   "cells": [
    {
     "cell_type": "heading",
     "level": 1,
     "metadata": {},
     "source": [
      "DoMe"
     ]
    },
    {
     "cell_type": "markdown",
     "metadata": {},
     "source": [
      "*(It's like 'ReadMe', for notebooks, innit. Hilarious.*)"
     ]
    },
    {
     "cell_type": "markdown",
     "metadata": {},
     "source": [
      "To achieve our aims we shall do the following:\n",
      "    \n",
      "  - Copy chapter notebooks to this folder\n",
      "  - Merge into one notebook\n",
      "  - Run nbconvert\n",
      "  - Parse the .tex files and place in 'Chapter' folders in main parent directory. \n",
      "  - Run compile-thesis.sh"
     ]
    },
    {
     "cell_type": "markdown",
     "metadata": {},
     "source": [
      "That's nearly everything. \n",
      "\n",
      "It isn't quite everything though. Several other files above folder also need modifying for this to work.\n",
      "\n",
      "I'll note that down here or somewhere. "
     ]
    },
    {
     "cell_type": "markdown",
     "metadata": {},
     "source": [
      "**Let's get cracking.**"
     ]
    },
    {
     "cell_type": "markdown",
     "metadata": {},
     "source": [
      "Setup"
     ]
    },
    {
     "cell_type": "code",
     "collapsed": false,
     "input": [
      "import os\n",
      "import numpy as np\n"
     ],
     "language": "python",
     "metadata": {
      "run_control": {
       "breakpoint": false
      }
     },
     "outputs": [],
     "prompt_number": 333
    },
    {
     "cell_type": "code",
     "collapsed": false,
     "input": [
      "main_dir = '/media/sf_WINDOWS_D_DRIVE/Neurodebian/code/git_repos/jg_fork_of_kk_phd-thesis-template'\n",
      "thesis_dir = '/media/sf_WINDOWS_D_DRIVE/Neurodebian/code/git_repos/DoctoralThesis'\n",
      "nbc_dir = main_dir + '/JG_hacks/Nbconvertness'\n",
      "chaps2do = [2,5]\n",
      "mockchaps2do = [1,2,3]\n",
      "\n",
      "do_real = False\n",
      "do_mock = True"
     ],
     "language": "python",
     "metadata": {
      "run_control": {
       "breakpoint": false
      }
     },
     "outputs": [],
     "prompt_number": 334
    },
    {
     "cell_type": "code",
     "collapsed": false,
     "input": [
      "# (just in case we weren't there already...)\n",
      "os.chdir(main_dir + '/JG_hacks')"
     ],
     "language": "python",
     "metadata": {
      "run_control": {
       "breakpoint": false
      }
     },
     "outputs": [],
     "prompt_number": 335
    },
    {
     "cell_type": "heading",
     "level": 2,
     "metadata": {},
     "source": [
      "Copy over chapter notebooks and figures. "
     ]
    },
    {
     "cell_type": "markdown",
     "metadata": {},
     "source": [
      "Previously, I had been using IPython.display.Image to embed figures in the notebooks. I really would rather do things this way. But turns out that nbconvert uses a different function to embed images than this template seems to expect. Markdown image embedding seems to be done the same , however (with 'includegraphics').\n",
      "\n",
      "So I reluctantly changed all my figures so that they are markdown. \n",
      "\n",
      "An important additional thing necessary to do here was make sure they were the correct dimensions for A4 paper. Embedding images deals with this automatically, but markdown images don't. Also, this means that the images themselves now need to be copied over, and the appropriate paths set. This is done below. \n",
      "\n",
      "Fortunately, it seems that the compile function in this template does a better job than nbconvert's '--post PDF' post-processor when the images don't fit. They still look wrong, but you can see what you need to fix in order to get them correct. \n",
      "\n",
      "\n"
     ]
    },
    {
     "cell_type": "markdown",
     "metadata": {},
     "source": [
      "In the following: \n",
      " - Make a folder for each chapter\n",
      " - Copy the chapter notebook and figures dir into that folder\n",
      " - Make an nbconvert folder and do the nbconvert stuff there\n",
      " - Distribute the results back out to the chapter folders\n",
      " - Compile"
     ]
    },
    {
     "cell_type": "code",
     "collapsed": false,
     "input": [
      "# Note this basically deletes everything and starts from scratch!\n",
      "if do_real:\n",
      " os.system('rm -r ' + main_dir + '/Chapter*')\n",
      " for c in chaps2do: \n",
      "  os.system('mkdir ' + main_dir + '/Chapter%s' %c)\n",
      "  os.system('mkdir ' + main_dir + '/Chapter%s/figures' %c)    \n",
      "  os.system('cp %s/Chapter%s/Chapter%s.ipynb %s/Chapter%s/' %(thesis_dir,c,c,main_dir,c) )\n",
      "  os.system('cp %s/Chapter%s/figures/*.png %s/Chapter%s/figures/' %(thesis_dir,c,main_dir,c) )\n",
      "    "
     ],
     "language": "python",
     "metadata": {
      "run_control": {
       "breakpoint": false
      }
     },
     "outputs": [],
     "prompt_number": 336
    },
    {
     "cell_type": "heading",
     "level": 2,
     "metadata": {},
     "source": [
      "Nbconvert"
     ]
    },
    {
     "cell_type": "markdown",
     "metadata": {},
     "source": [
      "It's useful to note that I am actually using the full 'nbconvert --to latex --post PDF' function here. So we do also get an nbconverted PDF. I then do some other things with the tex files to get a more fancy PDF that I can submit as-is."
     ]
    },
    {
     "cell_type": "code",
     "collapsed": false,
     "input": [
      "os.system('rm -r ' + nbc_dir)\n",
      "os.system('mkdir ' + nbc_dir)"
     ],
     "language": "python",
     "metadata": {
      "run_control": {
       "breakpoint": false
      }
     },
     "outputs": [
      {
       "metadata": {},
       "output_type": "pyout",
       "prompt_number": 337,
       "text": [
        "0"
       ]
      }
     ],
     "prompt_number": 337
    },
    {
     "cell_type": "code",
     "collapsed": false,
     "input": [
      "os.chdir(nbc_dir)"
     ],
     "language": "python",
     "metadata": {
      "run_control": {
       "breakpoint": false
      }
     },
     "outputs": [],
     "prompt_number": 456
    },
    {
     "cell_type": "markdown",
     "metadata": {},
     "source": [
      "**Make template**\n"
     ]
    },
    {
     "cell_type": "code",
     "collapsed": false,
     "input": [
      "%%writefile jg_thesis_nbconvert_template.tplx\n",
      "\n",
      "((= This line inherits from the built in template that you want to use. =))\n",
      "((* extends 'report.tplx' *))\n",
      "\n",
      "((* block date *))\n",
      "\\date{\\today}\n",
      "((* endblock date *))\n",
      "\n",
      "((* block author *))\n",
      "\\author{John David Griffiths}\n",
      "((* endblock author *))\n",
      "\n",
      "((* block title *))\n",
      "\\title{The white matter disonnection syndrome in neurocognitive ageing}\n",
      "((* endblock title *))\n",
      "\n",
      "((* block packages *))\n",
      "((( super() )))\n",
      "\\usepackage[round]{natbib}\n",
      "\\usepackage[doublespacing]{setspace}\n",
      "\\usepackage{parskip}\n",
      "((* endblock packages *))\n",
      "\n",
      "((* block commands *))\n",
      "    % Prevent overflowing lines due to hard-to-break entities\n",
      "    \\sloppy\n",
      "    % Setup hyperref package\n",
      "    \\hypersetup{\n",
      "      breaklinks=true, % so long urls are correctly broken across lines\n",
      "      hidelinks\n",
      "      }\n",
      "    % Slightly bigger margins than the latex defaults\n",
      "    \\geometry{verbose,tmargin=1in,bmargin=1in,lmargin=1in,rmargin=1in}\n",
      "    \n",
      "    %\\parskip=2\\baselineskip \\advance\\parskip by 0pt plus 20pt\n",
      "    \\setlength{\\parskip}{0pt} % 1ex plus 0.5ex minus 0.2ex}\n",
      "    \\setlength{\\parindent}{0pt}\n",
      "\n",
      "((* endblock commands *))\n",
      "\n",
      "((* block bibliography *))\n",
      "\\bibliographystyle{apalike}\n",
      "\\bibliography{Thesis}\n",
      "((* endblock bibliography *))\n",
      "\n",
      "% Disable input cells\n",
      "((* block input_group *))\n",
      "((* endblock input_group *))\n",
      "\n",
      "((= This line selects the cell style. =))\n",
      "((* set cell_style = 'style_bw_python.tplx' *))\n",
      "\n",
      "% Define block headings\n",
      "% Note: latex will only number headings that aren't starred \n",
      "% (i.e. \\subsection , but not \\subsection* )\n",
      "\n",
      "((* block h1 -*))\n",
      "((* endblock h1 -*))\n",
      "((* block h2 -*))\\chapter((* endblock h2 -*))\n",
      "((* block h3 -*))\\section((* endblock h3 -*))\n",
      "((* block h4 -*))\\subsection((* endblock h4 -*))\n",
      "((* block h5 -*))\\subsubsection((* endblock h5 -*))\n",
      "((* block h6 -*))\\paragraph*((* endblock h6 -*))\n",
      "((* block h7 -*))\\subparagraph*((* endblock h7 -*))"
     ],
     "language": "python",
     "metadata": {
      "run_control": {
       "breakpoint": false
      }
     },
     "outputs": [
      {
       "output_type": "stream",
       "stream": "stdout",
       "text": [
        "Overwriting jg_thesis_nbconvert_template.tplx\n"
       ]
      }
     ],
     "prompt_number": 457
    },
    {
     "cell_type": "markdown",
     "metadata": {},
     "source": [
      "Important note about section headings: \n",
      "\n",
      "In order to get both markdown (notebook) and latex playing ball, I:\n",
      "  - Use heading one in the notebook for Chapter number\n",
      "  - Use heading two in notebook for chapter title\n",
      "  - Set chapter heading one block in nbconvert template file to blank\n",
      "  - ...result = heading ones are ommitted in latex docs. Latex adds its own titles anyway (this is why I wanted to sort this). \n",
      "  \n",
      " \n",
      "I am also, at the moment at least, not using headings for abstract. So that's just bold font markdown. "
     ]
    },
    {
     "cell_type": "code",
     "collapsed": false,
     "input": [
      "\n",
      "\"\"\"\n",
      "((* block h1 -*))\\chapter((* endblock h1 -*))\n",
      "((* block h2 -*))\\section((* endblock h2 -*))\n",
      "((* block h3 -*))\\subsection((* endblock h3 -*))\n",
      "((* block h4 -*))\\subsubsection((* endblock h4 -*))\n",
      "((* block h5 -*))\\paragraph((* endblock h5 -*))\n",
      "((* block h6 -*))\\subparagraph((* endblock h6 -*))\n",
      "\n",
      "\"\"\";"
     ],
     "language": "python",
     "metadata": {
      "run_control": {
       "breakpoint": false
      }
     },
     "outputs": [],
     "prompt_number": 444
    },
    {
     "cell_type": "code",
     "collapsed": false,
     "input": [
      "#%load jg_thesis_nbconvert_template.tplx"
     ],
     "language": "python",
     "metadata": {
      "run_control": {
       "breakpoint": false
      }
     },
     "outputs": [],
     "prompt_number": 397
    },
    {
     "cell_type": "markdown",
     "metadata": {},
     "source": [
      "**Copy over bibliography**"
     ]
    },
    {
     "cell_type": "code",
     "collapsed": false,
     "input": [
      "os.system('cp /media/sf_WINDOWS_D_DRIVE/CloudStorage/Dropbox/Mendeley/Bibtex_sync/AspiraJohn/Thesis.bib %s/' %nbc_dir)"
     ],
     "language": "python",
     "metadata": {
      "run_control": {
       "breakpoint": false
      }
     },
     "outputs": [
      {
       "metadata": {},
       "output_type": "pyout",
       "prompt_number": 398,
       "text": [
        "0"
       ]
      }
     ],
     "prompt_number": 398
    },
    {
     "cell_type": "markdown",
     "metadata": {},
     "source": [
      "also copy to the 'References' folder, and rename"
     ]
    },
    {
     "cell_type": "code",
     "collapsed": false,
     "input": [
      "os.system('cp %s/Thesis.bib %s/References/references.bib' %(nbc_dir, main_dir))"
     ],
     "language": "python",
     "metadata": {
      "run_control": {
       "breakpoint": false
      }
     },
     "outputs": [
      {
       "metadata": {},
       "output_type": "pyout",
       "prompt_number": 399,
       "text": [
        "0"
       ]
      }
     ],
     "prompt_number": 399
    },
    {
     "cell_type": "markdown",
     "metadata": {},
     "source": [
      "**Merge chapters**"
     ]
    },
    {
     "cell_type": "markdown",
     "metadata": {},
     "source": [
      "(Add notes about nbmerge? )"
     ]
    },
    {
     "cell_type": "code",
     "collapsed": false,
     "input": [
      "os.system('cp %s/Compile_Documents/jg_nbmerge.py %s ' %(thesis_dir, nbc_dir) )"
     ],
     "language": "python",
     "metadata": {
      "run_control": {
       "breakpoint": false
      }
     },
     "outputs": [
      {
       "metadata": {},
       "output_type": "pyout",
       "prompt_number": 400,
       "text": [
        "0"
       ]
      }
     ],
     "prompt_number": 400
    },
    {
     "cell_type": "code",
     "collapsed": false,
     "input": [
      "if do_real:\n",
      " dirstr = ' '.join(['%s/Chapter%s/Chapter%s.ipynb ' %(main_dir,c,c) for c in chaps2do])\n",
      " !python $nbc_dir/jg_nbmerge.py $dirstr > $nbc_dir/jg_thesis_chapters.ipynb"
     ],
     "language": "python",
     "metadata": {
      "run_control": {
       "breakpoint": false
      }
     },
     "outputs": [],
     "prompt_number": 445
    },
    {
     "cell_type": "code",
     "collapsed": false,
     "input": [
      "if do_mock:\n",
      " dirstr = ' '.join(['%s/mock_Chapter%s/mock_Chapter%s.ipynb ' %(main_dir,c,c) for c in mockchaps2do])\n",
      " !python $nbc_dir/jg_nbmerge.py $dirstr > $nbc_dir/jg_mock_thesis_chapters.ipynb"
     ],
     "language": "python",
     "metadata": {
      "run_control": {
       "breakpoint": false
      }
     },
     "outputs": [],
     "prompt_number": 458
    },
    {
     "cell_type": "markdown",
     "metadata": {},
     "source": [
      "**Run nbconvert**"
     ]
    },
    {
     "cell_type": "code",
     "collapsed": false,
     "input": [
      "if do_real:\n",
      " !ipython nbconvert --to latex --post PDF --template jg_thesis_nbconvert_template.tplx jg_thesis_chapters.ipynb"
     ],
     "language": "python",
     "metadata": {
      "run_control": {
       "breakpoint": false
      }
     },
     "outputs": [],
     "prompt_number": 447
    },
    {
     "cell_type": "code",
     "collapsed": false,
     "input": [
      "\"\"\"\n",
      "%((* block h1 -*))\\chapter((* endblock h1 -*))\n",
      "%((* block h2 -*))\\section((* endblock h2 -*))\n",
      "%((* block h3 -*))\\subsection((* endblock h3 -*))\n",
      "%((* block h4 -*))\\subsubsection((* endblock h4 -*))\n",
      "%((* block h5 -*))\\paragraph((* endblock h5 -*))\n",
      "%((* block h6 -*))\\subparagraph((* endblock h6 -*))\n",
      "\"\"\";"
     ],
     "language": "python",
     "metadata": {
      "run_control": {
       "breakpoint": false
      }
     },
     "outputs": [],
     "prompt_number": 448
    },
    {
     "cell_type": "markdown",
     "metadata": {},
     "source": [
      "$nbc_dir/jg_thesis_nbconvert_template.tplx"
     ]
    },
    {
     "cell_type": "code",
     "collapsed": false,
     "input": [
      "if do_mock:\n",
      " !ipython nbconvert --to latex --post PDF --template jg_thesis_nbconvert_template.tplx jg_mock_thesis_chapters.ipynb"
     ],
     "language": "python",
     "metadata": {
      "run_control": {
       "breakpoint": false
      }
     },
     "outputs": [
      {
       "output_type": "stream",
       "stream": "stdout",
       "text": [
        "[NbConvertApp] Using existing profile dir: u'/home/brain/.ipython/profile_default'\r\n"
       ]
      },
      {
       "output_type": "stream",
       "stream": "stdout",
       "text": [
        "[NbConvertApp] Converting notebook jg_mock_thesis_chapters.ipynb to latex\r\n",
        "[NbConvertApp] Support files will be in jg_mock_thesis_chapters_files/\r\n"
       ]
      },
      {
       "output_type": "stream",
       "stream": "stdout",
       "text": [
        "[NbConvertApp] Loaded template jg_thesis_nbconvert_template.tplx\r\n"
       ]
      },
      {
       "output_type": "stream",
       "stream": "stdout",
       "text": [
        "/usr/local/lib/python2.7/dist-packages/IPython/nbconvert/utils/pandoc.py:63: RuntimeWarning: You are using an old version of pandoc (1.9.4)\r\n",
        "Recommended version is 1.12.1.\r\n",
        "Try updating.http://johnmacfarlane.net/pandoc/installing.html.\r\n",
        "Continuing with doubts...\r\n",
        "  check_pandoc_version()\r\n"
       ]
      },
      {
       "output_type": "stream",
       "stream": "stdout",
       "text": [
        "[NbConvertApp] Writing 9249 bytes to jg_mock_thesis_chapters.tex\r\n",
        "[NbConvertApp] Building PDF\r\n",
        "[NbConvertApp] Running pdflatex 3 times: [u'pdflatex', u'jg_mock_thesis_chapters.tex']\r\n"
       ]
      },
      {
       "output_type": "stream",
       "stream": "stdout",
       "text": [
        "[NbConvertApp] CRITICAL | pdflatex failed: [u'pdflatex', u'jg_mock_thesis_chapters.tex']\r\n",
        "This is pdfTeX, Version 3.1415926-2.4-1.40.13 (TeX Live 2012/Debian)\r\n",
        " restricted \\write18 enabled.\r\n",
        "entering extended mode\r\n",
        "(./jg_mock_thesis_chapters.tex\r\n",
        "LaTeX2e <2011/06/27>\r\n",
        "Babel <v3.8m> and hyphenation patterns for english, dumylang, nohyphenation, et\r\n",
        "hiopic, farsi, arabic, pinyin, croatian, bulgarian, ukrainian, russian, slovak,\r\n",
        " czech, danish, dutch, usenglishmax, ukenglish, finnish, french, basque, ngerma\r\n",
        "n, german, swissgerman, ngerman-x-2012-05-30, german-x-2012-05-30, monogreek, g\r\n",
        "reek, ibycus, ancientgreek, hungarian, bengali, tamil, hindi, telugu, gujarati,\r\n",
        " sanskrit, malayalam, kannada, assamese, marathi, oriya, panjabi, italian, lati\r\n",
        "n, latvian, lithuanian, mongolian, mongolianlmc, nynorsk, bokmal, indonesian, e\r\n",
        "speranto, coptic, welsh, irish, interlingua, serbian, serbianc, slovenian, friu\r\n",
        "lan, romansh, estonian, romanian, armenian, uppersorbian, turkish, afrikaans, i\r\n",
        "celandic, kurmanji, polish, portuguese, galician, catalan, spanish, swedish, th\r\n",
        "ai, loaded.\r\n",
        "(/usr/share/texlive/texmf-dist/tex/latex/base/report.cls\r\n",
        "Document Class: report 2007/10/19 v1.4h Standard LaTeX document class\r\n",
        "(/usr/share/texlive/texmf-dist/tex/latex/base/size10.clo))\r\n",
        "(/usr/share/texlive/texmf-dist/tex/latex/graphics/graphicx.sty\r\n",
        "(/usr/share/texlive/texmf-dist/tex/latex/graphics/keyval.sty)\r\n",
        "(/usr/share/texlive/texmf-dist/tex/latex/graphics/graphics.sty\r\n",
        "(/usr/share/texlive/texmf-dist/tex/latex/graphics/trig.sty)\r\n",
        "(/usr/share/texlive/texmf-dist/tex/latex/latexconfig/graphics.cfg)\r\n",
        "(/usr/share/texlive/texmf-dist/tex/latex/pdftex-def/pdftex.def\r\n",
        "(/usr/share/texlive/texmf-dist/tex/generic/oberdiek/infwarerr.sty)\r\n",
        "(/usr/share/texlive/texmf-dist/tex/generic/oberdiek/ltxcmds.sty))))\r\n",
        "(/usr/share/texlive/texmf-dist/tex/latex/adjustbox/adjustbox.sty\r\n",
        "(/usr/share/texlive/texmf-dist/tex/latex/xkeyval/xkeyval.sty\r\n",
        "(/usr/share/texlive/texmf-dist/tex/generic/xkeyval/xkeyval.tex))\r\n",
        "(/usr/share/texlive/texmf-dist/tex/latex/adjustbox/adjcalc.sty)\r\n",
        "(/usr/share/texlive/texmf-dist/tex/latex/adjustbox/trimclip.sty\r\n",
        "(/usr/share/texlive/texmf-dist/tex/latex/collectbox/collectbox.sty)\r\n",
        "(/usr/share/texlive/texmf-dist/tex/latex/adjustbox/tc-pdftex.def))\r\n",
        "(/usr/share/texlive/texmf-dist/tex/latex/ifoddpage/ifoddpage.sty)\r\n",
        "(/usr/share/texlive/texmf-dist/tex/latex/varwidth/varwidth.sty))\r\n",
        "(/usr/share/texlive/texmf-dist/tex/latex/graphics/color.sty\r\n",
        "(/usr/share/texlive/texmf-dist/tex/latex/latexconfig/color.cfg))\r\n",
        "(/usr/share/texlive/texmf-dist/tex/latex/tools/enumerate.sty)\r\n",
        "(/usr/share/texlive/texmf-dist/tex/latex/geometry/geometry.sty\r\n",
        "(/usr/share/texlive/texmf-dist/tex/generic/oberdiek/ifpdf.sty)\r\n",
        "(/usr/share/texlive/texmf-dist/tex/generic/oberdiek/ifvtex.sty)\r\n",
        "(/usr/share/texlive/texmf-dist/tex/generic/ifxetex/ifxetex.sty))\r\n",
        "(/usr/share/texlive/texmf-dist/tex/latex/amsmath/amsmath.sty\r\n",
        "For additional information on amsmath, use the `?' option.\r\n",
        "(/usr/share/texlive/texmf-dist/tex/latex/amsmath/amstext.sty\r\n",
        "(/usr/share/texlive/texmf-dist/tex/latex/amsmath/amsgen.sty))\r\n",
        "(/usr/share/texlive/texmf-dist/tex/latex/amsmath/amsbsy.sty)\r\n",
        "(/usr/share/texlive/texmf-dist/tex/latex/amsmath/amsopn.sty))\r\n",
        "(/usr/share/texlive/texmf-dist/tex/latex/amsfonts/amssymb.sty\r\n",
        "(/usr/share/texlive/texmf-dist/tex/latex/amsfonts/amsfonts.sty))\r\n",
        "(/usr/share/texlive/texmf-dist/tex/latex/ucs/ucs.sty\r\n",
        "(/usr/share/texlive/texmf-dist/tex/latex/ucs/data/uni-global.def))\r\n",
        "(/usr/share/texlive/texmf-dist/tex/latex/base/inputenc.sty\r\n",
        "(/usr/share/texlive/texmf-dist/tex/latex/ucs/utf8x.def))\r\n",
        "(/usr/share/texlive/texmf-dist/tex/latex/fancyvrb/fancyvrb.sty\r\n",
        "Style option: `fancyvrb' v2.7a, with DG/SPQR fixes, and firstline=lastline fix \r\n",
        "<2008/02/07> (tvz))\r\n",
        "(/usr/share/texlive/texmf-dist/tex/latex/oberdiek/grffile.sty\r\n",
        "(/usr/share/texlive/texmf-dist/tex/latex/oberdiek/kvoptions.sty\r\n",
        "(/usr/share/texlive/texmf-dist/tex/generic/oberdiek/kvsetkeys.sty\r\n",
        "(/usr/share/texlive/texmf-dist/tex/generic/oberdiek/etexcmds.sty\r\n",
        "(/usr/share/texlive/texmf-dist/tex/generic/oberdiek/ifluatex.sty))))\r\n",
        "(/usr/share/texlive/texmf-dist/tex/generic/oberdiek/pdftexcmds.sty))\r\n",
        "(/usr/share/texlive/texmf-dist/tex/latex/hyperref/hyperref.sty\r\n",
        "(/usr/share/texlive/texmf-dist/tex/generic/oberdiek/hobsub-hyperref.sty\r\n",
        "(/usr/share/texlive/texmf-dist/tex/generic/oberdiek/hobsub-generic.sty))\r\n",
        "(/usr/share/texlive/texmf-dist/tex/latex/hyperref/pd1enc.def)\r\n",
        "(/usr/share/texlive/texmf-dist/tex/latex/latexconfig/hyperref.cfg)\r\n",
        "(/usr/share/texlive/texmf-dist/tex/latex/url/url.sty))\r\n",
        "\r\n",
        "Package hyperref Message: Driver (autodetected): hpdftex.\r\n",
        "\r\n",
        "(/usr/share/texlive/texmf-dist/tex/latex/hyperref/hpdftex.def\r\n",
        "(/usr/share/texlive/texmf-dist/tex/latex/oberdiek/rerunfilecheck.sty))\r\n",
        "(/usr/share/texlive/texmf-dist/tex/latex/tools/longtable.sty)\r\n",
        "(/usr/share/texlive/texmf-dist/tex/latex/natbib/natbib.sty)\r\n",
        "(/usr/share/texlive/texmf-dist/tex/latex/setspace/setspace.sty)\r\n",
        "(/usr/share/texlive/texmf-dist/tex/latex/parskip/parskip.sty)\r\n",
        "No file jg_mock_thesis_chapters.aux.\r\n",
        "(/usr/share/texlive/texmf-dist/tex/context/base/supp-pdf.mkii\r\n",
        "[Loading MPS to PDF converter (version 2006.09.02).]\r\n",
        ") (/usr/share/texlive/texmf-dist/tex/latex/oberdiek/epstopdf-base.sty\r\n",
        "(/usr/share/texlive/texmf-dist/tex/latex/oberdiek/grfext.sty)\r\n",
        "(/usr/share/texlive/texmf-dist/tex/latex/latexconfig/epstopdf-sys.cfg))\r\n",
        "*geometry* driver: auto-detecting\r\n",
        "*geometry* detected driver: pdftex\r\n",
        "\r\n",
        "Package geometry Warning: The marginal notes overrun the paper.\r\n",
        "     Add 3.73001pt and more to the right margin.\r\n",
        "\r\n",
        "*geometry* verbose mode - [ preamble ] result:\r\n",
        "* driver: pdftex\r\n",
        "* paper: <default>\r\n",
        "* layout: <same size as paper>\r\n",
        "* layoutoffset:(h,v)=(0.0pt,0.0pt)\r\n",
        "* modes: \r\n",
        "* h-part:(L,W,R)=(72.26999pt, 469.75502pt, 72.26999pt)\r\n",
        "* v-part:(T,H,B)=(72.26999pt, 650.43001pt, 72.26999pt)\r\n",
        "* \\paperwidth=614.295pt\r\n",
        "* \\paperheight=794.96999pt\r\n",
        "* \\textwidth=469.75502pt\r\n",
        "* \\textheight=650.43001pt\r\n",
        "* \\oddsidemargin=0.0pt\r\n",
        "* \\evensidemargin=0.0pt\r\n",
        "* \\topmargin=-37.0pt\r\n",
        "* \\headheight=12.0pt\r\n",
        "* \\headsep=25.0pt\r\n",
        "* \\topskip=10.0pt\r\n",
        "* \\footskip=30.0pt\r\n",
        "* \\marginparwidth=65.0pt\r\n",
        "* \\marginparsep=11.0pt\r\n",
        "* \\columnsep=10.0pt\r\n",
        "* \\skip\\footins=9.0pt plus 4.0pt minus 2.0pt\r\n",
        "* \\hoffset=0.0pt\r\n",
        "* \\voffset=0.0pt\r\n",
        "* \\mag=1000\r\n",
        "* \\@twocolumnfalse\r\n",
        "* \\@twosidefalse\r\n",
        "* \\@mparswitchfalse\r\n",
        "* \\@reversemarginfalse\r\n",
        "* (1in=72.27pt=25.4mm, 1cm=28.453pt)\r\n",
        "\r\n",
        "(/usr/share/texlive/texmf-dist/tex/latex/ucs/ucsencs.def)\r\n",
        "(/usr/share/texlive/texmf-dist/tex/latex/hyperref/nameref.sty\r\n",
        "(/usr/share/texlive/texmf-dist/tex/generic/oberdiek/gettitlestring.sty))\r\n",
        "(/usr/share/texlive/texmf-dist/tex/latex/amsfonts/umsa.fd)\r\n",
        "(/usr/share/texlive/texmf-dist/tex/latex/amsfonts/umsb.fd) [1{/var/lib/texmf/fo\r\n",
        "nts/map/pdftex/updmap/pdftex.map}]\r\n",
        "\r\n",
        "Package hyperref Warning: old toc file detected, not used; run LaTeX again.\r\n",
        "\r\n",
        "pdfTeX warning (ext4): destination with the same identifier (name{page.1}) has \r\n",
        "been already used, duplicate ignored\r\n",
        "<to be read again> \r\n",
        "                   \\relax \r\n",
        "l.142     \\chapter\r\n",
        "                  {An enchanting mock chapter 1 title goes here} [1]\r\n",
        "Chapter 1.\r\n",
        "(/usr/share/texlive/texmf-dist/tex/latex/base/omscmr.fd)\r\n",
        "\r\n",
        "LaTeX Warning: File `figures/Ch2_JHU_tracts.png' not found on input line 190.\r\n",
        "\r\n",
        "\r\n",
        "! Package pdftex.def Error: File `figures/Ch2_JHU_tracts.png' not found.\r\n",
        "\r\n",
        "See the pdftex.def package documentation for explanation.\r\n",
        "Type  H <return>  for immediate help.\r\n",
        " ...                                              \r\n",
        "                                                  \r\n",
        "l.190 \\includegraphics{figures/Ch2_JHU_tracts.png}\r\n",
        "                                                  \r\n",
        "? \r\n",
        "! Emergency stop.\r\n",
        " ...                                              \r\n",
        "                                                  \r\n",
        "l.190 \\includegraphics{figures/Ch2_JHU_tracts.png}\r\n",
        "                                                  \r\n",
        "!  ==> Fatal error occurred, no output PDF file produced!\r\n",
        "Transcript written on jg_mock_thesis_chapters.log.\r\n",
        "\r\n",
        "[NbConvertApp] Removing temporary LaTeX files\r\n"
       ]
      }
     ],
     "prompt_number": 459
    },
    {
     "cell_type": "heading",
     "level": 2,
     "metadata": {},
     "source": [
      "Parse the .tex file and put in chapter dirs in main folder"
     ]
    },
    {
     "cell_type": "markdown",
     "metadata": {},
     "source": [
      "The .tex file from nbconvert includes /documentclass and /usepackages etc. stuff that I don't need. \n",
      "\n",
      "All I need are the chapters. \n",
      "\n",
      "Need to do the following:\n",
      "\n",
      "Need to do the following: \n",
      "    \n",
      "  - Split the .tex file at every occurrence of '/chapter'. \n",
      "  - For each chapter, add an extra bit of text  below /chapter saying the location of the figures\n",
      "  - Make a folder in the main folder for each chapter, and put the newly parsed .tex file "
     ]
    },
    {
     "cell_type": "code",
     "collapsed": false,
     "input": [
      "addit = '\\n\\n \\chapter \\n\\n \\graphicspath{{Chapter%s/figures/}} \\n\\n'\n",
      "mock_addit = '\\n\\n \\chapter \\n\\n \\graphicspath{{mock_Chapter%s/figures/}} \\n\\n'"
     ],
     "language": "python",
     "metadata": {
      "run_control": {
       "breakpoint": false
      }
     },
     "outputs": [],
     "prompt_number": 463
    },
    {
     "cell_type": "markdown",
     "metadata": {},
     "source": [
      "My chapters"
     ]
    },
    {
     "cell_type": "code",
     "collapsed": false,
     "input": [
      "if do_real:\n",
      " #mock_addit = '\\n\\n \\chapter%s} \\n\\n \\graphicspath{{mock_Chapter%s/figures/}} \\n\\n %s'\n",
      " addit = '\\n\\n \\chapter%s} \\n\\n \\graphicspath{{Chapter%s/}} \\n\\n %s'\n",
      "\n",
      " thetex = open(nbc_dir + '/jg_thesis_chapters.tex', 'r').read()\n",
      " parsedtex = [addit %(s.split('}')[0],s_it,'}'.join(s.split('}')[1:]))\\\n",
      "              for s_it, s in enumerate(''.join(thetex).split('\\chapter'))][1:]\n",
      " #parsedtex = [mock_addit %s_it + s for s_it, s in enumerate(''.join(thetex).split('\\chapter'))][1:]\n",
      " #for p_it, p in enumerate(parsedtex): open(main_dir + 'Chapter%s/chapter%s.tex' %(p_it+1, p_it+1), 'w').writelines(p)\n",
      " for c,p in zip(chaps2do, parsedtex): open(main_dir + '/Chapter%s/chapter%s.tex' %(c,c), 'w').writelines(p)"
     ],
     "language": "python",
     "metadata": {
      "run_control": {
       "breakpoint": false
      }
     },
     "outputs": [],
     "prompt_number": 464
    },
    {
     "cell_type": "markdown",
     "metadata": {},
     "source": [
      "Mock chapters"
     ]
    },
    {
     "cell_type": "code",
     "collapsed": false,
     "input": [
      "if do_mock:\n",
      " #mock_addit = '\\n\\n \\chapter%s} \\n\\n \\graphicspath{{mock_Chapter%s/figures/}} \\n\\n %s'\n",
      " mock_addit = '\\n\\n \\chapter%s} \\n\\n \\graphicspath{{mock_Chapter%s/}} \\n\\n %s'\n",
      "\n",
      " thetex = open(nbc_dir + '/jg_mock_thesis_chapters.tex', 'r').read()\n",
      " parsedtex = [mock_addit %(s.split('}')[0],s_it,'}'.join(s.split('}')[1:]))\\\n",
      "              for s_it, s in enumerate(''.join(thetex).split('\\chapter'))][1:]\n",
      " #parsedtex = [mock_addit %s_it + s for s_it, s in enumerate(''.join(thetex).split('\\chapter'))][1:]\n",
      " #for p_it, p in enumerate(parsedtex): open(main_dir + 'Chapter%s/chapter%s.tex' %(p_it+1, p_it+1), 'w').writelines(p)\n",
      " for c,p in zip(mockchaps2do, parsedtex): open(main_dir + '/mock_Chapter%s/mock_chapter%s.tex' %(c,c), 'w').writelines(p)"
     ],
     "language": "python",
     "metadata": {
      "run_control": {
       "breakpoint": false
      }
     },
     "outputs": [],
     "prompt_number": 465
    },
    {
     "cell_type": "heading",
     "level": 2,
     "metadata": {},
     "source": [
      "Compile"
     ]
    },
    {
     "cell_type": "code",
     "collapsed": false,
     "input": [
      "os.chdir(main_dir)"
     ],
     "language": "python",
     "metadata": {
      "run_control": {
       "breakpoint": false
      }
     },
     "outputs": [],
     "prompt_number": 410
    },
    {
     "cell_type": "code",
     "collapsed": false,
     "input": [
      "if do_real:\n",
      " !sh compile-thesis.sh compile thesis\n",
      "    "
     ],
     "language": "python",
     "metadata": {
      "run_control": {
       "breakpoint": false
      }
     },
     "outputs": [],
     "prompt_number": 411
    },
    {
     "cell_type": "code",
     "collapsed": false,
     "input": [
      "if do_mock:\n",
      " !sh compile-thesis.sh compile mock_thesis"
     ],
     "language": "python",
     "metadata": {
      "run_control": {
       "breakpoint": false
      }
     },
     "outputs": [
      {
       "output_type": "stream",
       "stream": "stdout",
       "text": [
        "Compiling your PhD Thesis...please wait...!\r\n"
       ]
      },
      {
       "output_type": "stream",
       "stream": "stdout",
       "text": [
        "This is pdfTeX, Version 3.1415926-2.4-1.40.13 (TeX Live 2012/Debian)\r\n",
        " restricted \\write18 enabled.\r\n",
        "entering extended mode\r\n",
        "(./mock_thesis.tex\r\n",
        "LaTeX2e <2011/06/27>\r\n",
        "Babel <v3.8m> and hyphenation patterns for english, dumylang, nohyphenation, et\r\n",
        "hiopic, farsi, arabic, pinyin, croatian, bulgarian, ukrainian, russian, slovak,\r\n",
        " czech, danish, dutch, usenglishmax, ukenglish, finnish, french, basque, ngerma\r\n",
        "n, german, swissgerman, ngerman-x-2012-05-30, german-x-2012-05-30, monogreek, g\r\n",
        "reek, ibycus, ancientgreek, hungarian, bengali, tamil, hindi, telugu, gujarati,\r\n",
        " sanskrit, malayalam, kannada, assamese, marathi, oriya, panjabi, italian, lati\r\n",
        "n, latvian, lithuanian, mongolian, mongolianlmc, nynorsk, bokmal, indonesian, e\r\n",
        "speranto, coptic, welsh, irish, interlingua, serbian, serbianc, slovenian, friu\r\n",
        "lan, romansh, estonian, romanian, armenian, uppersorbian, turkish, afrikaans, i\r\n",
        "celandic, kurmanji, polish, portuguese, galician, catalan, spanish, swedish, th\r\n",
        "ai, loaded.\r\n",
        "(./Classes/PhDThesisPSnPDF.cls\r\n",
        "\r\n",
        "LaTeX Warning: You have requested document class `Classes/PhDThesisPSnPDF',\r\n",
        "               but the document class provides `PhDThesisPSnPDF'.\r\n",
        "\r\n",
        "Document Class: PhDThesisPSnPDF 2013/12/10 version 1.0 by Krishna Kumar\r\n",
        "https://github.com/kks32/phd-thesis-template/\r\n",
        "(/usr/share/texlive/texmf-dist/tex/latex/base/book.cls\r\n",
        "Document Class: book 2007/10/19 v1.4h Standard LaTeX document class\r\n",
        "(/usr/share/texlive/texmf-dist/tex/latex/base/fleqn.clo)\r\n",
        "(/usr/share/texlive/texmf-dist/tex/latex/base/bk12.clo)"
       ]
      },
      {
       "output_type": "stream",
       "stream": "stdout",
       "text": [
        ")\r\n",
        "(/usr/share/texlive/texmf-dist/tex/latex/hyperref/hyperref.sty\r\n",
        "(/usr/share/texlive/texmf-dist/tex/generic/oberdiek/hobsub-hyperref.sty\r\n",
        "(/usr/share/texlive/texmf-dist/tex/generic/oberdiek/hobsub-generic.sty))\r\n",
        "(/usr/share/texlive/texmf-dist/tex/latex/graphics/keyval.sty)\r\n",
        "(/usr/share/texlive/texmf-dist/tex/generic/ifxetex/ifxetex.sty)\r\n",
        "(/usr/share/texlive/texmf-dist/tex/latex/oberdiek/kvoptions.sty)"
       ]
      },
      {
       "output_type": "stream",
       "stream": "stdout",
       "text": [
        "\r\n",
        "(/usr/share/texlive/texmf-dist/tex/latex/hyperref/pd1enc.def)\r\n",
        "(/usr/share/texlive/texmf-dist/tex/latex/latexconfig/hyperref.cfg)\r\n",
        "(/usr/share/texlive/texmf-dist/tex/latex/hyperref/puenc.def"
       ]
      },
      {
       "output_type": "stream",
       "stream": "stdout",
       "text": [
        ")\r\n",
        "(/usr/share/texlive/texmf-dist/tex/latex/url/url.sty))\r\n",
        "\r\n",
        "Package hyperref Message: Driver (autodetected): hpdftex.\r\n",
        "\r\n",
        "(/usr/share/texlive/texmf-dist/tex/latex/hyperref/hpdftex.def\r\n",
        "(/usr/share/texlive/texmf-dist/tex/latex/oberdiek/rerunfilecheck.sty))\r\n",
        "(/usr/share/texlive/texmf-dist/tex/latex/geometry/geometry.sty)"
       ]
      },
      {
       "output_type": "stream",
       "stream": "stdout",
       "text": [
        "\r\n",
        "(/usr/share/texlive/texmf-dist/tex/latex/graphics/lscape.sty\r\n",
        "(/usr/share/texlive/texmf-dist/tex/latex/graphics/graphics.sty\r\n",
        "(/usr/share/texlive/texmf-dist/tex/latex/graphics/trig.sty)\r\n",
        "(/usr/share/texlive/texmf-dist/tex/latex/latexconfig/graphics.cfg)\r\n",
        "(/usr/share/texlive/texmf-dist/tex/latex/pdftex-def/pdftex.def)))\r\n",
        "(/usr/share/texlive/texmf-dist/tex/latex/setspace/setspace.sty)\r\n",
        "(/usr/share/texlive/texmf-dist/tex/latex/tools/calc.sty)\r\n",
        "(/usr/share/texlive/texmf-dist/tex/latex/base/ifthen.sty)\r\n",
        "(/usr/share/texlive/texmf-dist/tex/latex/tocbibind/tocbibind.sty\r\n",
        "\r\n",
        "Package tocbibind Note: Using chapter style headings, unless overridden.\r\n",
        "\r\n",
        ") (/usr/share/texlive/texmf-dist/tex/latex/appendix/appendix.sty)\r\n",
        "(/usr/share/texlive/texmf-dist/tex/latex/graphics/color.sty\r\n",
        "(/usr/share/texlive/texmf-dist/tex/latex/latexconfig/color.cfg)\r\n",
        "(/usr/share/texlive/texmf-dist/tex/latex/graphics/dvipsnam.def))"
       ]
      },
      {
       "output_type": "stream",
       "stream": "stdout",
       "text": [
        "\r\n",
        "(/usr/share/texlive/texmf-dist/tex/latex/oberdiek/epstopdf.sty\r\n",
        "(/usr/share/texlive/texmf-dist/tex/latex/oberdiek/epstopdf-base.sty\r\n",
        "(/usr/share/texlive/texmf-dist/tex/latex/oberdiek/grfext.sty)\r\n",
        "(/usr/share/texlive/texmf-dist/tex/latex/latexconfig/epstopdf-sys.cfg)))\r\n",
        "(/usr/share/texlive/texmf-dist/tex/latex/graphics/graphicx.sty)\r\n",
        "(/usr/share/texlive/texmf-dist/tex/latex/natbib/natbib.sty)\r\n",
        "(/usr/share/texlive/texmf-dist/tex/latex/base/textcomp.sty\r\n",
        "(/usr/share/texlive/texmf-dist/tex/latex/base/ts1enc.def)"
       ]
      },
      {
       "output_type": "stream",
       "stream": "stdout",
       "text": [
        ")\r\n",
        "(/usr/share/texlive/texmf-dist/tex/latex/psnfss/mathptmx.sty)\r\n",
        "(/usr/share/texlive/texmf-dist/tex/latex/base/inputenc.sty\r\n",
        "(/usr/share/texlive/texmf-dist/tex/latex/base/utf8.def\r\n",
        "(/usr/share/texlive/texmf-dist/tex/latex/base/t1enc.dfu)\r\n",
        "(/usr/share/texlive/texmf-dist/tex/latex/base/ot1enc.dfu)\r\n",
        "(/usr/share/texlive/texmf-dist/tex/latex/base/omsenc.dfu)\r\n",
        "(/usr/share/texlive/texmf-dist/tex/latex/base/ts1enc.dfu)))\r\n",
        "(/usr/share/texlive/texmf-dist/tex/latex/base/fontenc.sty\r\n",
        "(/usr/share/texlive/texmf-dist/tex/latex/base/t1enc.def))\r\n",
        "(/usr/share/texlive/texmf/tex/generic/pdftex/glyphtounicode.tex"
       ]
      },
      {
       "output_type": "stream",
       "stream": "stdout",
       "text": [
        ")\r\n",
        "(/usr/share/texlive/texmf-dist/tex/latex/fancyhdr/fancyhdr.sty)\r\n",
        "(/usr/share/texlive/texmf-dist/tex/latex/nomencl/nomencl.sty)\r\n",
        "Writing nomenclature file mock_thesis.nlo\r\n",
        "(/usr/share/texlive/texmf-dist/tex/latex/base/makeidx.sty)"
       ]
      },
      {
       "output_type": "stream",
       "stream": "stdout",
       "text": [
        "\r\n",
        "Writing index file mock_thesis.idx\r\n",
        ") (./Preamble/preamble.tex\r\n",
        "(/usr/share/texlive/texmf-dist/tex/latex/caption/caption.sty\r\n",
        "(/usr/share/texlive/texmf-dist/tex/latex/caption/caption3.sty)"
       ]
      },
      {
       "output_type": "stream",
       "stream": "stdout",
       "text": [
        ")\r\n",
        "(/usr/share/texlive/texmf-dist/tex/latex/subfig/subfig.sty)\r\n",
        "(/usr/share/texlive/texmf-dist/tex/latex/amsfonts/amsfonts.sty)\r\n",
        "(/usr/share/texlive/texmf-dist/tex/latex/amsmath/amsmath.sty\r\n",
        "For additional information on amsmath, use the `?' option.\r\n",
        "(/usr/share/texlive/texmf-dist/tex/latex/amsmath/amstext.sty\r\n",
        "(/usr/share/texlive/texmf-dist/tex/latex/amsmath/amsgen.sty))\r\n",
        "(/usr/share/texlive/texmf-dist/tex/latex/amsmath/amsbsy.sty)\r\n",
        "(/usr/share/texlive/texmf-dist/tex/latex/amsmath/amsopn.sty))\r\n",
        "(/usr/share/texlive/texmf-dist/tex/latex/amsfonts/amssymb.sty"
       ]
      },
      {
       "output_type": "stream",
       "stream": "stdout",
       "text": [
        "))\r\n",
        "(./thesis-info.tex) (./mock_thesis.aux (./Dedication/dedication.aux)\r\n",
        "(./Declaration/declaration.aux) (./Acknowledgement/acknowledgement.aux)\r\n",
        "(./Abstract/abstract.aux) (./mock_Chapter1/mock_chapter1.aux)"
       ]
      },
      {
       "output_type": "stream",
       "stream": "stdout",
       "text": [
        "\r\n",
        "(./orig_Chapter2/chapter2.aux) (./mock_Chapter2/mock_chapter2.aux)\r\n",
        "(./mock_Chapter3/mock_chapter3.aux) (./Appendix1/appendix1.aux)\r\n",
        "(./Appendix2/appendix2.aux))\r\n",
        "(/usr/share/texlive/texmf-dist/tex/latex/base/ts1cmr.fd)\r\n",
        "(/usr/share/texlive/texmf-dist/tex/latex/psnfss/t1ptm.fd)\r\n",
        "(/usr/share/texlive/texmf-dist/tex/latex/hyperref/nameref.sty\r\n",
        "(/usr/share/texlive/texmf-dist/tex/generic/oberdiek/gettitlestring.sty))\r\n",
        "(./mock_thesis.out"
       ]
      },
      {
       "output_type": "stream",
       "stream": "stdout",
       "text": [
        ") (./mock_thesis.out)\r\n",
        "*geometry* detected driver: pdftex\r\n",
        "(/usr/share/texlive/texmf-dist/tex/context/base/supp-pdf.mkii\r\n",
        "[Loading MPS to PDF converter (version 2006.09.02).]\r\n",
        ")\r\n",
        "! Undefined control sequence.\r\n",
        "\\@title ...our PhD Thesis in IPython notebooks \\n \r\n",
        "                                                  and \\n \\texorpdfstring {\\\\...\r\n",
        "l.105 \\begin{document}\r\n",
        "                      \r\n",
        "! Undefined control sequence.\r\n",
        "\\@title ... Thesis in IPython notebooks \\n and \\n \r\n",
        "                                                  \\texorpdfstring {\\\\ \\LaTeX...\r\n",
        "l.105 \\begin{document}\r\n",
        "                      \r\n",
        "! Undefined control sequence.\r\n",
        "\\@title ...our PhD Thesis in IPython notebooks \\n \r\n",
        "                                                  and \\n \\texorpdfstring {\\\\...\r\n",
        "l.111 \\maketitle\r\n",
        "                \r\n",
        "! Undefined control sequence.\r\n",
        "\\@title ... Thesis in IPython notebooks \\n and \\n \r\n",
        "                                                  \\texorpdfstring {\\\\ \\LaTeX...\r\n",
        "l.111 \\maketitle\r\n",
        "                \r\n"
       ]
      },
      {
       "output_type": "stream",
       "stream": "stdout",
       "text": [
        "(/usr/share/texlive/texmf-dist/tex/latex/psnfss/ot1ztmcm.fd)\r\n",
        "(/usr/share/texlive/texmf-dist/tex/latex/psnfss/omlztmcm.fd)\r\n",
        "(/usr/share/texlive/texmf-dist/tex/latex/psnfss/omsztmcm.fd)\r\n",
        "(/usr/share/texlive/texmf-dist/tex/latex/psnfss/omxztmcm.fd)\r\n",
        "(/usr/share/texlive/texmf-dist/tex/latex/psnfss/ot1ptm.fd)\r\n",
        "\r\n",
        "! LaTeX Error: File `University_Crest' not found.\r\n",
        "\r\n",
        "See the LaTeX manual or LaTeX Companion for explanation.\r\n",
        "Type  H <return>  for immediate help.\r\n",
        " ...                                              \r\n",
        "                                                  \r\n",
        "l.111 \\maketitle\r\n",
        "                \r\n"
       ]
      },
      {
       "output_type": "stream",
       "stream": "stdout",
       "text": [
        "! Undefined control sequence.\r\n",
        "\\@title ...our PhD Thesis in IPython notebooks \\n \r\n",
        "                                                  and \\n \\texorpdfstring {\\\\...\r\n",
        "l.111 \\maketitle\r\n",
        "                \r\n",
        "! Undefined control sequence.\r\n",
        "\\@title ... Thesis in IPython notebooks \\n and \\n \r\n",
        "                                                  \\texorpdfstring {\\\\ \\LaTeX...\r\n",
        "l.111 \\maketitle\r\n",
        "                \r\n",
        "\r\n",
        "! LaTeX Error: File `University_Crest' not found.\r\n",
        "\r\n",
        "See the LaTeX manual or LaTeX Companion for explanation.\r\n",
        "Type  H <return>  for immediate help.\r\n",
        " ...                                              \r\n",
        "                                                  \r\n",
        "l.111 \\maketitle\r\n",
        "                \r\n",
        "[1{/var/lib/texmf/fonts/map/pdftex/updmap/pdftex.map"
       ]
      },
      {
       "output_type": "stream",
       "stream": "stdout",
       "text": [
        "}]"
       ]
      },
      {
       "output_type": "stream",
       "stream": "stdout",
       "text": [
        "\r\n",
        "(./Dedication/dedication.tex [2]) [3] (./Declaration/declaration.tex [4])\r\n",
        "[5]"
       ]
      },
      {
       "output_type": "stream",
       "stream": "stdout",
       "text": [
        " (./Acknowledgement/acknowledgement.tex [6]) [7] (./Abstract/abstract.tex\r\n",
        "[8]) [9] [10] (./mock_thesis.toc) [11] [12]"
       ]
      },
      {
       "output_type": "stream",
       "stream": "stdout",
       "text": [
        " (./mock_thesis.lof) [13] [14]\r\n",
        "(./mock_thesis.lot) (./mock_thesis.nls) [15] [16]\r\n",
        "(./mock_Chapter1/mock_chapter1.tex\r\n",
        "Chapter 1.\r\n",
        ") [1]"
       ]
      },
      {
       "output_type": "stream",
       "stream": "stdout",
       "text": [
        " (./orig_Chapter2/chapter2.tex [2]\r\n",
        "Chapter 2.\r\n",
        "\r\n",
        "! LaTeX Error: File `minion' not found.\r\n",
        "\r\n",
        "See the LaTeX manual or LaTeX Companion for explanation.\r\n",
        "Type  H <return>  for immediate help.\r\n",
        " ...                                              \r\n",
        "                                                  \r\n",
        "l.26 \\includegraphics[width=1.0\\textwidth]{minion}\r\n",
        "                                                  \r\n",
        "(/usr/share/texlive/texmf-dist/tex/latex/psnfss/ts1ptm.fd) [3] [4]"
       ]
      },
      {
       "output_type": "stream",
       "stream": "stdout",
       "text": [
        " [5]\r\n",
        "\r\n",
        "! LaTeX Error: File `TomandJerry' not found.\r\n",
        "\r\n",
        "See the LaTeX manual or LaTeX Companion for explanation.\r\n",
        "Type  H <return>  for immediate help.\r\n",
        " ...                                              \r\n",
        "                                                  \r\n",
        "l.82 ...raphics[width=0.3\\textwidth]{TomandJerry}}\r\n",
        "                                                  \r\n",
        "\r\n",
        "Overfull \\hbox (11.09985pt too wide) in paragraph at lines 82--82\r\n",
        "[]\\T1/ptm/m/n/10 (a)\r\n",
        "\r\n",
        "Overfull \\hbox (7.21997pt too wide) in paragraph at lines 82--82\r\n",
        "|\\T1/ptm/m/n/10 A\r\n",
        "\r\n",
        "Overfull \\hbox (18.08994pt too wide) in paragraph at lines 82--82\r\n",
        "\\T1/ptm/m/n/10 Tom\r\n",
        "\r\n",
        "Overfull \\hbox (14.43994pt too wide) in paragraph at lines 82--82\r\n",
        "\\T1/ptm/m/n/10 and\r\n",
        "\r\n",
        "Overfull \\hbox (19.98975pt too wide) in paragraph at lines 82--82\r\n",
        "\\T1/ptm/m/n/10 Jerry| \r\n"
       ]
      },
      {
       "output_type": "stream",
       "stream": "stdout",
       "text": [
        "\r\n",
        "! LaTeX Error: File `WallE' not found.\r\n",
        "\r\n",
        "See the LaTeX manual or LaTeX Companion for explanation.\r\n",
        "Type  H <return>  for immediate help.\r\n",
        " ...                                              \r\n",
        "                                                  \r\n",
        "l.83 ...cludegraphics[width=0.3\\textwidth]{WallE}}\r\n",
        "                                                  \r\n",
        "\r\n",
        "Overfull \\hbox (11.65991pt too wide) in paragraph at lines 83--83\r\n",
        "[]\\T1/ptm/m/n/10 (b)\r\n",
        "\r\n",
        "Overfull \\hbox (7.21997pt too wide) in paragraph at lines 83--83\r\n",
        "|\\T1/ptm/m/n/10 A\r\n",
        "\r\n",
        "Overfull \\hbox (21.96968pt too wide) in paragraph at lines 83--83\r\n",
        "\\T1/ptm/m/n/10 Wall-\r\n",
        "\r\n",
        "Overfull \\hbox (6.10999pt too wide) in paragraph at lines 83--83\r\n",
        "\\T1/ptm/m/n/10 E| \r\n",
        "\r\n",
        "! LaTeX Error: File `minion' not found.\r\n",
        "\r\n",
        "See the LaTeX manual or LaTeX Companion for explanation.\r\n",
        "Type  H <return>  for immediate help.\r\n",
        " ...                                              \r\n",
        "                                                  \r\n",
        "l.84 ...ludegraphics[width=0.3\\textwidth]{minion}}\r\n",
        "                                                  \r\n",
        "\r\n",
        "Overfull \\hbox (11.09985pt too wide) in paragraph at lines 84--84\r\n",
        "[]\\T1/ptm/m/n/10 (c)\r\n",
        "\r\n",
        "Overfull \\hbox (7.21997pt too wide) in paragraph at lines 84--84\r\n",
        "|\\T1/ptm/m/n/10 A\r\n",
        "\r\n",
        "Overfull \\hbox (19.99974pt too wide) in paragraph at lines 84--84\r\n",
        "\\T1/ptm/m/n/10 Min-\r\n",
        "\r\n",
        "Overfull \\hbox (12.77989pt too wide) in paragraph at lines 84--84\r\n",
        "\\T1/ptm/m/n/10 ion| \r\n",
        "[6"
       ]
      },
      {
       "output_type": "stream",
       "stream": "stdout",
       "text": [
        "]) (./mock_Chapter2/mock_chapter2.tex\r\n",
        "Chapter 3.\r\n",
        ") [7] (./mock_Chapter3/mock_chapter3.tex [8]\r\n",
        "Chapter 4.\r\n",
        ") [9] [10] (./mock_thesis.bbl\r\n",
        "\r\n",
        "Package natbib Warning: Empty `thebibliography' environment on input line 3.\r\n",
        "\r\n",
        ") [11"
       ]
      },
      {
       "output_type": "stream",
       "stream": "stdout",
       "text": [
        "] (./Appendix1/appendix1.tex [12]\r\n",
        "Appendix A.\r\n",
        "[13] [14] (/usr/share/texlive/texmf-dist/tex/latex/base/t1cmtt.fd) [15]"
       ]
      },
      {
       "output_type": "stream",
       "stream": "stdout",
       "text": [
        ")\r\n",
        "[16] (./Appendix2/appendix2.tex\r\n",
        "Appendix B.\r\n",
        ") [17] [18] (./mock_thesis.ind) (./mock_thesis.aux"
       ]
      },
      {
       "output_type": "stream",
       "stream": "stdout",
       "text": [
        " (./Dedication/dedication.aux\r\n",
        ") (./Declaration/declaration.aux) (./Acknowledgement/acknowledgement.aux)\r\n",
        "(./Abstract/abstract.aux) (./mock_Chapter1/mock_chapter1.aux)"
       ]
      },
      {
       "output_type": "stream",
       "stream": "stdout",
       "text": [
        "\r\n",
        "(./orig_Chapter2/chapter2.aux) (./mock_Chapter2/mock_chapter2.aux)\r\n",
        "(./mock_Chapter3/mock_chapter3.aux"
       ]
      },
      {
       "output_type": "stream",
       "stream": "stdout",
       "text": [
        ") (./Appendix1/appendix1.aux)\r\n",
        "(./Appendix2/appendix2.aux)) )\r\n",
        "(\\end occurred inside a group at level 1)\r\n",
        "\r\n",
        "### semi simple group (level 1) entered at line 738 (\\begingroup)\r\n",
        "### bottom level\r\n",
        "(see the transcript file for additional information)pdfTeX warning (dest): name\r\n",
        "{Hfootnote.1} has been referenced but does not exist, replaced by a fixed one\r\n",
        "\r\n",
        "{/usr/share/texmf/fonts/enc/dvips/cm-super/cm-super-t1.enc}{/usr/share/texlive/\r\n",
        "texmf-dist/fonts/enc/dvips/base/8r.enc}</usr/share/texmf/fonts/type1/public/cm-\r\n",
        "super/sftt1200.pfb>"
       ]
      },
      {
       "output_type": "stream",
       "stream": "stdout",
       "text": [
        "</usr/share/texlive/texmf-dist/fonts/type1/urw/times/utmb8a.\r\n",
        "pfb></usr/share/texlive/texmf-dist/fonts/type1/urw/times/utmr8a.pfb></usr/share\r\n",
        "/texlive/texmf-dist/fonts/type1/urw/times/utmri8a.pfb>\r\n"
       ]
      },
      {
       "output_type": "stream",
       "stream": "stdout",
       "text": [
        "Output written on mock_thesis.pdf (34 pages, 102542 bytes).\r\n",
        "Transcript written on mock_thesis.log.\r\n"
       ]
      },
      {
       "output_type": "stream",
       "stream": "stdout",
       "text": [
        "This is BibTeX, Version 0.99d (TeX Live 2012/Debian)\r\n",
        "The top-level auxiliary file: mock_thesis.aux\r\n",
        "A level-1 auxiliary file: Dedication/dedication.aux\r\n",
        "A level-1 auxiliary file: Declaration/declaration.aux\r\n",
        "A level-1 auxiliary file: Acknowledgement/acknowledgement.aux\r\n"
       ]
      },
      {
       "output_type": "stream",
       "stream": "stdout",
       "text": [
        "A level-1 auxiliary file: Abstract/abstract.aux\r\n",
        "A level-1 auxiliary file: mock_Chapter1/mock_chapter1.aux\r\n",
        "A level-1 auxiliary file: orig_Chapter2/chapter2.aux\r\n",
        "A level-1 auxiliary file: mock_Chapter2/mock_chapter2.aux\r\n",
        "A level-1 auxiliary file: mock_Chapter3/mock_chapter3.aux\r\n",
        "The style file: apalike.bst\r\n",
        "A level-1 auxiliary file: Appendix1/appendix1.aux\r\n",
        "A level-1 auxiliary file: Appendix2/appendix2.aux\r\n",
        "I found no \\citation commands---while reading file mock_thesis.aux\r\n",
        "Database file #1: References/references.bib\r\n"
       ]
      },
      {
       "output_type": "stream",
       "stream": "stdout",
       "text": [
        "(There was 1 error message)\r\n"
       ]
      },
      {
       "output_type": "stream",
       "stream": "stdout",
       "text": [
        "This is makeindex, version 2.15 [TeX Live 2012] (kpathsea + Thai support).\r\n",
        "Scanning input file mock_thesis.aux...done (0 entries accepted, 34 rejected).\r\n",
        "Nothing written in mock_thesis.ind.\r\n",
        "Transcript written in mock_thesis.ilg.\r\n"
       ]
      },
      {
       "output_type": "stream",
       "stream": "stdout",
       "text": [
        "This is makeindex, version 2.15 [TeX Live 2012] (kpathsea + Thai support).\r\n",
        "Scanning input file mock_thesis.idx...done (0 entries accepted, 0 rejected).\r\n",
        "Nothing written in mock_thesis.ind.\r\n",
        "Transcript written in mock_thesis.ilg.\r\n"
       ]
      },
      {
       "output_type": "stream",
       "stream": "stdout",
       "text": [
        "This is makeindex, version 2.15 [TeX Live 2012] (kpathsea + Thai support).\r\n",
        "Scanning style file /usr/share/texlive/texmf-dist/makeindex/nomencl/nomencl.ist..........done (10 attributes redefined, 3 ignored).\r\n",
        "Scanning input file mock_thesis.nlo...done (0 entries accepted, 0 rejected).\r\n",
        "Nothing written in mock_thesis.nls.\r\n",
        "Transcript written in mock_thesis.ilg.\r\n"
       ]
      },
      {
       "output_type": "stream",
       "stream": "stdout",
       "text": [
        "This is pdfTeX, Version 3.1415926-2.4-1.40.13 (TeX Live 2012/Debian)\r\n",
        " restricted \\write18 enabled.\r\n"
       ]
      },
      {
       "output_type": "stream",
       "stream": "stdout",
       "text": [
        "entering extended mode\r\n",
        "(./mock_thesis.tex\r\n",
        "LaTeX2e <2011/06/27>\r\n",
        "Babel <v3.8m> and hyphenation patterns for english, dumylang, nohyphenation, et\r\n",
        "hiopic, farsi, arabic, pinyin, croatian, bulgarian, ukrainian, russian, slovak,\r\n",
        " czech, danish, dutch, usenglishmax, ukenglish, finnish, french, basque, ngerma\r\n",
        "n, german, swissgerman, ngerman-x-2012-05-30, german-x-2012-05-30, monogreek, g\r\n",
        "reek, ibycus, ancientgreek, hungarian, bengali, tamil, hindi, telugu, gujarati,\r\n",
        " sanskrit, malayalam, kannada, assamese, marathi, oriya, panjabi, italian, lati\r\n",
        "n, latvian, lithuanian, mongolian, mongolianlmc, nynorsk, bokmal, indonesian, e\r\n",
        "speranto, coptic, welsh, irish, interlingua, serbian, serbianc, slovenian, friu\r\n",
        "lan, romansh, estonian, romanian, armenian, uppersorbian, turkish, afrikaans, i\r\n",
        "celandic, kurmanji, polish, portuguese, galician, catalan, spanish, swedish, th\r\n",
        "ai, loaded.\r\n",
        "(./Classes/PhDThesisPSnPDF.cls\r\n",
        "\r\n",
        "LaTeX Warning: You have requested document class `Classes/PhDThesisPSnPDF',\r\n",
        "               but the document class provides `PhDThesisPSnPDF'.\r\n",
        "\r\n",
        "Document Class: PhDThesisPSnPDF 2013/12/10 version 1.0 by Krishna Kumar\r\n",
        "https://github.com/kks32/phd-thesis-template/\r\n",
        "(/usr/share/texlive/texmf-dist/tex/latex/base/book.cls\r\n",
        "Document Class: book 2007/10/19 v1.4h Standard LaTeX document class\r\n",
        "(/usr/share/texlive/texmf-dist/tex/latex/base/fleqn.clo)\r\n",
        "(/usr/share/texlive/texmf-dist/tex/latex/base/bk12.clo)"
       ]
      },
      {
       "output_type": "stream",
       "stream": "stdout",
       "text": [
        ")\r\n",
        "(/usr/share/texlive/texmf-dist/tex/latex/hyperref/hyperref.sty\r\n",
        "(/usr/share/texlive/texmf-dist/tex/generic/oberdiek/hobsub-hyperref.sty\r\n",
        "(/usr/share/texlive/texmf-dist/tex/generic/oberdiek/hobsub-generic.sty))\r\n",
        "(/usr/share/texlive/texmf-dist/tex/latex/graphics/keyval.sty)"
       ]
      },
      {
       "output_type": "stream",
       "stream": "stdout",
       "text": [
        "\r\n",
        "(/usr/share/texlive/texmf-dist/tex/generic/ifxetex/ifxetex.sty)\r\n",
        "(/usr/share/texlive/texmf-dist/tex/latex/oberdiek/kvoptions.sty)\r\n",
        "(/usr/share/texlive/texmf-dist/tex/latex/hyperref/pd1enc.def)\r\n",
        "(/usr/share/texlive/texmf-dist/tex/latex/latexconfig/hyperref.cfg)\r\n",
        "(/usr/share/texlive/texmf-dist/tex/latex/hyperref/puenc.def"
       ]
      },
      {
       "output_type": "stream",
       "stream": "stdout",
       "text": [
        ")\r\n",
        "(/usr/share/texlive/texmf-dist/tex/latex/url/url.sty))\r\n",
        "\r\n",
        "Package hyperref Message: Driver (autodetected): hpdftex.\r\n",
        "\r\n",
        "(/usr/share/texlive/texmf-dist/tex/latex/hyperref/hpdftex.def\r\n",
        "(/usr/share/texlive/texmf-dist/tex/latex/oberdiek/rerunfilecheck.sty"
       ]
      },
      {
       "output_type": "stream",
       "stream": "stdout",
       "text": [
        "))\r\n",
        "(/usr/share/texlive/texmf-dist/tex/latex/geometry/geometry.sty)\r\n",
        "(/usr/share/texlive/texmf-dist/tex/latex/graphics/lscape.sty\r\n",
        "(/usr/share/texlive/texmf-dist/tex/latex/graphics/graphics.sty\r\n",
        "(/usr/share/texlive/texmf-dist/tex/latex/graphics/trig.sty)\r\n",
        "(/usr/share/texlive/texmf-dist/tex/latex/latexconfig/graphics.cfg)\r\n",
        "(/usr/share/texlive/texmf-dist/tex/latex/pdftex-def/pdftex.def)))\r\n",
        "(/usr/share/texlive/texmf-dist/tex/latex/setspace/setspace.sty)\r\n",
        "(/usr/share/texlive/texmf-dist/tex/latex/tools/calc.sty)\r\n",
        "(/usr/share/texlive/texmf-dist/tex/latex/base/ifthen.sty)\r\n",
        "(/usr/share/texlive/texmf-dist/tex/latex/tocbibind/tocbibind.sty\r\n",
        "\r\n",
        "Package tocbibind Note: Using chapter style headings, unless overridden.\r\n",
        "\r\n",
        ") (/usr/share/texlive/texmf-dist/tex/latex/appendix/appendix.sty)\r\n",
        "(/usr/share/texlive/texmf-dist/tex/latex/graphics/color.sty\r\n",
        "(/usr/share/texlive/texmf-dist/tex/latex/latexconfig/color.cfg)\r\n",
        "(/usr/share/texlive/texmf-dist/tex/latex/graphics/dvipsnam.def"
       ]
      },
      {
       "output_type": "stream",
       "stream": "stdout",
       "text": [
        "))\r\n",
        "(/usr/share/texlive/texmf-dist/tex/latex/oberdiek/epstopdf.sty\r\n",
        "(/usr/share/texlive/texmf-dist/tex/latex/oberdiek/epstopdf-base.sty\r\n",
        "(/usr/share/texlive/texmf-dist/tex/latex/oberdiek/grfext.sty)\r\n",
        "(/usr/share/texlive/texmf-dist/tex/latex/latexconfig/epstopdf-sys.cfg)))\r\n",
        "(/usr/share/texlive/texmf-dist/tex/latex/graphics/graphicx.sty)\r\n",
        "(/usr/share/texlive/texmf-dist/tex/latex/natbib/natbib.sty)\r\n",
        "(/usr/share/texlive/texmf-dist/tex/latex/base/textcomp.sty\r\n",
        "(/usr/share/texlive/texmf-dist/tex/latex/base/ts1enc.def))\r\n",
        "(/usr/share/texlive/texmf-dist/tex/latex/psnfss/mathptmx.sty)\r\n",
        "(/usr/share/texlive/texmf-dist/tex/latex/base/inputenc.sty"
       ]
      },
      {
       "output_type": "stream",
       "stream": "stdout",
       "text": [
        "\r\n",
        "(/usr/share/texlive/texmf-dist/tex/latex/base/utf8.def\r\n",
        "(/usr/share/texlive/texmf-dist/tex/latex/base/t1enc.dfu)\r\n",
        "(/usr/share/texlive/texmf-dist/tex/latex/base/ot1enc.dfu)\r\n",
        "(/usr/share/texlive/texmf-dist/tex/latex/base/omsenc.dfu)\r\n",
        "(/usr/share/texlive/texmf-dist/tex/latex/base/ts1enc.dfu)))\r\n",
        "(/usr/share/texlive/texmf-dist/tex/latex/base/fontenc.sty\r\n",
        "(/usr/share/texlive/texmf-dist/tex/latex/base/t1enc.def))\r\n",
        "(/usr/share/texlive/texmf/tex/generic/pdftex/glyphtounicode.tex)\r\n",
        "(/usr/share/texlive/texmf-dist/tex/latex/fancyhdr/fancyhdr.sty)"
       ]
      },
      {
       "output_type": "stream",
       "stream": "stdout",
       "text": [
        "\r\n",
        "(/usr/share/texlive/texmf-dist/tex/latex/nomencl/nomencl.sty)\r\n",
        "Writing nomenclature file mock_thesis.nlo\r\n",
        "(/usr/share/texlive/texmf-dist/tex/latex/base/makeidx.sty)\r\n",
        "Writing index file mock_thesis.idx\r\n",
        ") (./Preamble/preamble.tex\r\n",
        "(/usr/share/texlive/texmf-dist/tex/latex/caption/caption.sty\r\n",
        "(/usr/share/texlive/texmf-dist/tex/latex/caption/caption3.sty))\r\n",
        "(/usr/share/texlive/texmf-dist/tex/latex/subfig/subfig.sty)\r\n",
        "(/usr/share/texlive/texmf-dist/tex/latex/amsfonts/amsfonts.sty)\r\n",
        "(/usr/share/texlive/texmf-dist/tex/latex/amsmath/amsmath.sty"
       ]
      },
      {
       "output_type": "stream",
       "stream": "stdout",
       "text": [
        "\r\n",
        "For additional information on amsmath, use the `?' option.\r\n",
        "(/usr/share/texlive/texmf-dist/tex/latex/amsmath/amstext.sty\r\n",
        "(/usr/share/texlive/texmf-dist/tex/latex/amsmath/amsgen.sty))\r\n",
        "(/usr/share/texlive/texmf-dist/tex/latex/amsmath/amsbsy.sty)\r\n",
        "(/usr/share/texlive/texmf-dist/tex/latex/amsmath/amsopn.sty))\r\n",
        "(/usr/share/texlive/texmf-dist/tex/latex/amsfonts/amssymb.sty))\r\n",
        "(./thesis-info.tex) (./mock_thesis.aux (./Dedication/dedication.aux)\r\n",
        "(./Declaration/declaration.aux)"
       ]
      },
      {
       "output_type": "stream",
       "stream": "stdout",
       "text": [
        " (./Acknowledgement/acknowledgement.aux)\r\n",
        "(./Abstract/abstract.aux) (./mock_Chapter1/mock_chapter1.aux)\r\n",
        "(./orig_Chapter2/chapter2.aux) (./mock_Chapter2/mock_chapter2.aux)\r\n",
        "(./mock_Chapter3/mock_chapter3.aux) (./Appendix1/appendix1.aux)\r\n",
        "(./Appendix2/appendix2.aux))\r\n",
        "(/usr/share/texlive/texmf-dist/tex/latex/base/ts1cmr.fd)\r\n",
        "(/usr/share/texlive/texmf-dist/tex/latex/psnfss/t1ptm.fd)\r\n",
        "(/usr/share/texlive/texmf-dist/tex/latex/hyperref/nameref.sty\r\n",
        "(/usr/share/texlive/texmf-dist/tex/generic/oberdiek/gettitlestring.sty))"
       ]
      },
      {
       "output_type": "stream",
       "stream": "stdout",
       "text": [
        "\r\n",
        "(./mock_thesis.out) (./mock_thesis.out)\r\n",
        "*geometry* detected driver: pdftex\r\n",
        "(/usr/share/texlive/texmf-dist/tex/context/base/supp-pdf.mkii\r\n",
        "[Loading MPS to PDF converter (version 2006.09.02).]\r\n",
        ")\r\n",
        "! Undefined control sequence.\r\n",
        "\\@title ...our PhD Thesis in IPython notebooks \\n \r\n",
        "                                                  and \\n \\texorpdfstring {\\\\...\r\n",
        "l.105 \\begin{document}\r\n",
        "                      \r\n",
        "! Undefined control sequence.\r\n",
        "\\@title ... Thesis in IPython notebooks \\n and \\n \r\n",
        "                                                  \\texorpdfstring {\\\\ \\LaTeX...\r\n",
        "l.105 \\begin{document}\r\n",
        "                      \r\n",
        "! Undefined control sequence.\r\n",
        "\\@title ...our PhD Thesis in IPython notebooks \\n \r\n",
        "                                                  and \\n \\texorpdfstring {\\\\...\r\n",
        "l.111 \\maketitle\r\n",
        "                \r\n",
        "! Undefined control sequence.\r\n",
        "\\@title ... Thesis in IPython notebooks \\n and \\n \r\n",
        "                                                  \\texorpdfstring {\\\\ \\LaTeX...\r\n",
        "l.111 \\maketitle\r\n",
        "                \r\n",
        "(/usr/share/texlive/texmf-dist/tex/latex/psnfss/ot1ztmcm.fd)\r\n",
        "(/usr/share/texlive/texmf-dist/tex/latex/psnfss/omlztmcm.fd)\r\n",
        "(/usr/share/texlive/texmf-dist/tex/latex/psnfss/omsztmcm.fd)\r\n",
        "(/usr/share/texlive/texmf-dist/tex/latex/psnfss/omxztmcm.fd)\r\n",
        "(/usr/share/texlive/texmf-dist/tex/latex/psnfss/ot1ptm.fd)"
       ]
      },
      {
       "output_type": "stream",
       "stream": "stdout",
       "text": [
        "\r\n",
        "\r\n",
        "! LaTeX Error: File `University_Crest' not found.\r\n",
        "\r\n",
        "See the LaTeX manual or LaTeX Companion for explanation.\r\n",
        "Type  H <return>  for immediate help.\r\n",
        " ...                                              \r\n",
        "                                                  \r\n",
        "l.111 \\maketitle\r\n",
        "                \r\n",
        "! Undefined control sequence.\r\n",
        "\\@title ...our PhD Thesis in IPython notebooks \\n \r\n",
        "                                                  and \\n \\texorpdfstring {\\\\...\r\n",
        "l.111 \\maketitle\r\n",
        "                \r\n",
        "! Undefined control sequence.\r\n",
        "\\@title ... Thesis in IPython notebooks \\n and \\n \r\n",
        "                                                  \\texorpdfstring {\\\\ \\LaTeX...\r\n",
        "l.111 \\maketitle\r\n",
        "                \r\n",
        "\r\n",
        "! LaTeX Error: File `University_Crest' not found.\r\n",
        "\r\n",
        "See the LaTeX manual or LaTeX Companion for explanation.\r\n",
        "Type  H <return>  for immediate help.\r\n",
        " ...                                              \r\n",
        "                                                  \r\n",
        "l.111 \\maketitle\r\n",
        "                \r\n",
        "[1{/var/lib/texmf/fonts/map/pdftex/updmap/pdftex.map"
       ]
      },
      {
       "output_type": "stream",
       "stream": "stdout",
       "text": [
        "}]\r\n",
        "(./Dedication/dedication.tex [2]) [3] (./Declaration/declaration.tex [4])\r\n",
        "[5] (./Acknowledgement/acknowledgement.tex [6]) [7]"
       ]
      },
      {
       "output_type": "stream",
       "stream": "stdout",
       "text": [
        " (./Abstract/abstract.tex\r\n",
        "[8]) [9] [10] (./mock_thesis.toc) [11] [12] (./mock_thesis.lof) [13]"
       ]
      },
      {
       "output_type": "stream",
       "stream": "stdout",
       "text": [
        " [14]\r\n",
        "(./mock_thesis.lot) (./mock_thesis.nls) [15] [16]\r\n",
        "(./mock_Chapter1/mock_chapter1.tex\r\n",
        "Chapter 1.\r\n",
        ") [1] (./orig_Chapter2/chapter2.tex [2]\r\n",
        "Chapter 2.\r\n"
       ]
      },
      {
       "output_type": "stream",
       "stream": "stdout",
       "text": [
        "\r\n",
        "! LaTeX Error: File `minion' not found.\r\n",
        "\r\n",
        "See the LaTeX manual or LaTeX Companion for explanation.\r\n",
        "Type  H <return>  for immediate help.\r\n",
        " ...                                              \r\n",
        "                                                  \r\n",
        "l.26 \\includegraphics[width=1.0\\textwidth]{minion}\r\n",
        "                                                  \r\n",
        "(/usr/share/texlive/texmf-dist/tex/latex/psnfss/ts1ptm.fd) [3] [4] [5]"
       ]
      },
      {
       "output_type": "stream",
       "stream": "stdout",
       "text": [
        "\r\n",
        "\r\n",
        "! LaTeX Error: File `TomandJerry' not found.\r\n",
        "\r\n",
        "See the LaTeX manual or LaTeX Companion for explanation.\r\n",
        "Type  H <return>  for immediate help.\r\n",
        " ...                                              \r\n",
        "                                                  \r\n",
        "l.82 ...raphics[width=0.3\\textwidth]{TomandJerry}}\r\n",
        "                                                  \r\n",
        "\r\n",
        "Overfull \\hbox (11.09985pt too wide) in paragraph at lines 82--82\r\n",
        "[]\\T1/ptm/m/n/10 (a)\r\n",
        "\r\n",
        "Overfull \\hbox (7.21997pt too wide) in paragraph at lines 82--82\r\n",
        "|\\T1/ptm/m/n/10 A\r\n",
        "\r\n",
        "Overfull \\hbox (18.08994pt too wide) in paragraph at lines 82--82\r\n",
        "\\T1/ptm/m/n/10 Tom\r\n",
        "\r\n",
        "Overfull \\hbox (14.43994pt too wide) in paragraph at lines 82--82\r\n",
        "\\T1/ptm/m/n/10 and\r\n",
        "\r\n",
        "Overfull \\hbox (19.98975pt too wide) in paragraph at lines 82--82\r\n",
        "\\T1/ptm/m/n/10 Jerry| \r\n",
        "\r\n",
        "! LaTeX Error: File `WallE' not found.\r\n",
        "\r\n",
        "See the LaTeX manual or LaTeX Companion for explanation.\r\n",
        "Type  H <return>  for immediate help.\r\n",
        " ...                                              \r\n",
        "                                                  \r\n",
        "l.83 ...cludegraphics[width=0.3\\textwidth]{WallE}}\r\n",
        "                                                  \r\n",
        "\r\n",
        "Overfull \\hbox (11.65991pt too wide) in paragraph at lines 83--83\r\n",
        "[]\\T1/ptm/m/n/10 (b)\r\n",
        "\r\n",
        "Overfull \\hbox (7.21997pt too wide) in paragraph at lines 83--83\r\n",
        "|\\T1/ptm/m/n/10 A\r\n",
        "\r\n",
        "Overfull \\hbox (21.96968pt too wide) in paragraph at lines 83--83\r\n",
        "\\T1/ptm/m/n/10 Wall-\r\n",
        "\r\n",
        "Overfull \\hbox (6.10999pt too wide) in paragraph at lines 83--83\r\n",
        "\\T1/ptm/m/n/10 E| \r\n",
        "\r\n",
        "! LaTeX Error: File `minion' not found.\r\n",
        "\r\n",
        "See the LaTeX manual or LaTeX Companion for explanation.\r\n",
        "Type  H <return>  for immediate help.\r\n",
        " ...                                              \r\n",
        "                                                  \r\n",
        "l.84 ...ludegraphics[width=0.3\\textwidth]{minion}}\r\n",
        "                                                  \r\n",
        "\r\n",
        "Overfull \\hbox (11.09985pt too wide) in paragraph at lines 84--84\r\n",
        "[]\\T1/ptm/m/n/10 (c)\r\n",
        "\r\n",
        "Overfull \\hbox (7.21997pt too wide) in paragraph at lines 84--84\r\n",
        "|\\T1/ptm/m/n/10 A\r\n",
        "\r\n",
        "Overfull \\hbox (19.99974pt too wide) in paragraph at lines 84--84\r\n",
        "\\T1/ptm/m/n/10 Min-\r\n",
        "\r\n",
        "Overfull \\hbox (12.77989pt too wide) in paragraph at lines 84--84\r\n",
        "\\T1/ptm/m/n/10 ion| \r\n",
        "[6]) (./mock_Chapter2/mock_chapter2.tex\r\n",
        "Chapter 3.\r\n",
        ")"
       ]
      },
      {
       "output_type": "stream",
       "stream": "stdout",
       "text": [
        " [7] (./mock_Chapter3/mock_chapter3.tex [8]\r\n",
        "Chapter 4.\r\n",
        ") [9] [10] (./mock_thesis.bbl\r\n",
        "\r\n",
        "Package natbib Warning: Empty `thebibliography' environment on input line 3.\r\n",
        "\r\n",
        ") [11] (./Appendix1/appendix1.tex [12]\r\n",
        "Appendix A.\r\n",
        "[13] [14]"
       ]
      },
      {
       "output_type": "stream",
       "stream": "stdout",
       "text": [
        " (/usr/share/texlive/texmf-dist/tex/latex/base/t1cmtt.fd) [15])\r\n",
        "[16] (./Appendix2/appendix2.tex\r\n",
        "Appendix B.\r\n",
        ") [17] [18] (./mock_thesis.ind) (./mock_thesis.aux (./Dedication/dedication.aux\r\n",
        ")"
       ]
      },
      {
       "output_type": "stream",
       "stream": "stdout",
       "text": [
        " (./Declaration/declaration.aux) (./Acknowledgement/acknowledgement.aux)\r\n",
        "(./Abstract/abstract.aux) (./mock_Chapter1/mock_chapter1.aux)\r\n",
        "(./orig_Chapter2/chapter2.aux) (./mock_Chapter2/mock_chapter2.aux)\r\n",
        "(./mock_Chapter3/mock_chapter3.aux) (./Appendix1/appendix1.aux)\r\n",
        "(./Appendix2/appendix2.aux)) )\r\n",
        "(\\end occurred inside a group at level 1)\r\n",
        "\r\n",
        "### semi simple group (level 1) entered at line 738 (\\begingroup)\r\n",
        "### bottom level\r\n",
        "(see the transcript file for additional information)pdfTeX warning (dest): name\r\n",
        "{Hfootnote.1} has been referenced but does not exist, replaced by a fixed one\r\n",
        "\r\n",
        "{/usr/share/texmf/fonts/enc/dvips/cm-super/cm-super-t1.enc"
       ]
      },
      {
       "output_type": "stream",
       "stream": "stdout",
       "text": [
        "}{/usr/share/texlive/\r\n",
        "texmf-dist/fonts/enc/dvips/base/8r.enc}</usr/share/texmf/fonts/type1/public/cm-\r\n",
        "super/sftt1200.pfb></usr/share/texlive/texmf-dist/fonts/type1/urw/times/utmb8a.\r\n",
        "pfb></usr/share/texlive/texmf-dist/fonts/type1/urw/times/utmr8a.pfb></usr/share\r\n",
        "/texlive/texmf-dist/fonts/type1/urw/times/utmri8a.pfb>\r\n"
       ]
      },
      {
       "output_type": "stream",
       "stream": "stdout",
       "text": [
        "Output written on mock_thesis.pdf (34 pages, 102542 bytes).\r\n",
        "Transcript written on mock_thesis.log.\r\n"
       ]
      },
      {
       "output_type": "stream",
       "stream": "stdout",
       "text": [
        "This is makeindex, version 2.15 [TeX Live 2012] (kpathsea + Thai support).\r\n",
        "Scanning style file /usr/share/texlive/texmf-dist/makeindex/nomencl/nomencl.ist..........done (10 attributes redefined, 3 ignored).\r\n",
        "Scanning input file mock_thesis.nlo...done (0 entries accepted, 0 rejected).\r\n",
        "Nothing written in mock_thesis.nls.\r\n",
        "Transcript written in mock_thesis.ilg.\r\n"
       ]
      },
      {
       "output_type": "stream",
       "stream": "stdout",
       "text": [
        "This is pdfTeX, Version 3.1415926-2.4-1.40.13 (TeX Live 2012/Debian)\r\n",
        " restricted \\write18 enabled.\r\n",
        "entering extended mode\r\n",
        "(./mock_thesis.tex\r\n",
        "LaTeX2e <2011/06/27>\r\n",
        "Babel <v3.8m> and hyphenation patterns for english, dumylang, nohyphenation, et\r\n",
        "hiopic, farsi, arabic, pinyin, croatian, bulgarian, ukrainian, russian, slovak,\r\n",
        " czech, danish, dutch, usenglishmax, ukenglish, finnish, french, basque, ngerma\r\n",
        "n, german, swissgerman, ngerman-x-2012-05-30, german-x-2012-05-30, monogreek, g\r\n",
        "reek, ibycus, ancientgreek, hungarian, bengali, tamil, hindi, telugu, gujarati,\r\n",
        " sanskrit, malayalam, kannada, assamese, marathi, oriya, panjabi, italian, lati\r\n",
        "n, latvian, lithuanian, mongolian, mongolianlmc, nynorsk, bokmal, indonesian, e\r\n",
        "speranto, coptic, welsh, irish, interlingua, serbian, serbianc, slovenian, friu\r\n",
        "lan, romansh, estonian, romanian, armenian, uppersorbian, turkish, afrikaans, i\r\n",
        "celandic, kurmanji, polish, portuguese, galician, catalan, spanish, swedish, th\r\n",
        "ai, loaded.\r\n",
        "(./Classes/PhDThesisPSnPDF.cls\r\n",
        "\r\n",
        "LaTeX Warning: You have requested document class `Classes/PhDThesisPSnPDF',\r\n",
        "               but the document class provides `PhDThesisPSnPDF'.\r\n",
        "\r\n",
        "Document Class: PhDThesisPSnPDF 2013/12/10 version 1.0 by Krishna Kumar\r\n",
        "https://github.com/kks32/phd-thesis-template/\r\n",
        "(/usr/share/texlive/texmf-dist/tex/latex/base/book.cls\r\n",
        "Document Class: book 2007/10/19 v1.4h Standard LaTeX document class\r\n",
        "(/usr/share/texlive/texmf-dist/tex/latex/base/fleqn.clo)\r\n",
        "(/usr/share/texlive/texmf-dist/tex/latex/base/bk12.clo))\r\n",
        "(/usr/share/texlive/texmf-dist/tex/latex/hyperref/hyperref.sty\r\n",
        "(/usr/share/texlive/texmf-dist/tex/generic/oberdiek/hobsub-hyperref.sty\r\n",
        "(/usr/share/texlive/texmf-dist/tex/generic/oberdiek/hobsub-generic.sty"
       ]
      },
      {
       "output_type": "stream",
       "stream": "stdout",
       "text": [
        "))\r\n",
        "(/usr/share/texlive/texmf-dist/tex/latex/graphics/keyval.sty)\r\n",
        "(/usr/share/texlive/texmf-dist/tex/generic/ifxetex/ifxetex.sty)\r\n",
        "(/usr/share/texlive/texmf-dist/tex/latex/oberdiek/kvoptions.sty)\r\n",
        "(/usr/share/texlive/texmf-dist/tex/latex/hyperref/pd1enc.def)"
       ]
      },
      {
       "output_type": "stream",
       "stream": "stdout",
       "text": [
        "\r\n",
        "(/usr/share/texlive/texmf-dist/tex/latex/latexconfig/hyperref.cfg)\r\n",
        "(/usr/share/texlive/texmf-dist/tex/latex/hyperref/puenc.def)\r\n",
        "(/usr/share/texlive/texmf-dist/tex/latex/url/url.sty))\r\n",
        "\r\n",
        "Package hyperref Message: Driver (autodetected): hpdftex.\r\n",
        "\r\n",
        "(/usr/share/texlive/texmf-dist/tex/latex/hyperref/hpdftex.def\r\n",
        "(/usr/share/texlive/texmf-dist/tex/latex/oberdiek/rerunfilecheck.sty"
       ]
      },
      {
       "output_type": "stream",
       "stream": "stdout",
       "text": [
        "))\r\n",
        "(/usr/share/texlive/texmf-dist/tex/latex/geometry/geometry.sty)\r\n",
        "(/usr/share/texlive/texmf-dist/tex/latex/graphics/lscape.sty\r\n",
        "(/usr/share/texlive/texmf-dist/tex/latex/graphics/graphics.sty\r\n",
        "(/usr/share/texlive/texmf-dist/tex/latex/graphics/trig.sty)\r\n",
        "(/usr/share/texlive/texmf-dist/tex/latex/latexconfig/graphics.cfg)\r\n",
        "(/usr/share/texlive/texmf-dist/tex/latex/pdftex-def/pdftex.def)))\r\n",
        "(/usr/share/texlive/texmf-dist/tex/latex/setspace/setspace.sty)\r\n",
        "(/usr/share/texlive/texmf-dist/tex/latex/tools/calc.sty)\r\n",
        "(/usr/share/texlive/texmf-dist/tex/latex/base/ifthen.sty)\r\n",
        "(/usr/share/texlive/texmf-dist/tex/latex/tocbibind/tocbibind.sty\r\n",
        "\r\n",
        "Package tocbibind Note: Using chapter style headings, unless overridden.\r\n",
        "\r\n",
        ") (/usr/share/texlive/texmf-dist/tex/latex/appendix/appendix.sty)"
       ]
      },
      {
       "output_type": "stream",
       "stream": "stdout",
       "text": [
        "\r\n",
        "(/usr/share/texlive/texmf-dist/tex/latex/graphics/color.sty\r\n",
        "(/usr/share/texlive/texmf-dist/tex/latex/latexconfig/color.cfg)\r\n",
        "(/usr/share/texlive/texmf-dist/tex/latex/graphics/dvipsnam.def))\r\n",
        "(/usr/share/texlive/texmf-dist/tex/latex/oberdiek/epstopdf.sty\r\n",
        "(/usr/share/texlive/texmf-dist/tex/latex/oberdiek/epstopdf-base.sty\r\n",
        "(/usr/share/texlive/texmf-dist/tex/latex/oberdiek/grfext.sty)\r\n",
        "(/usr/share/texlive/texmf-dist/tex/latex/latexconfig/epstopdf-sys.cfg)))\r\n",
        "(/usr/share/texlive/texmf-dist/tex/latex/graphics/graphicx.sty)\r\n",
        "(/usr/share/texlive/texmf-dist/tex/latex/natbib/natbib.sty)\r\n",
        "(/usr/share/texlive/texmf-dist/tex/latex/base/textcomp.sty\r\n",
        "(/usr/share/texlive/texmf-dist/tex/latex/base/ts1enc.def))\r\n",
        "(/usr/share/texlive/texmf-dist/tex/latex/psnfss/mathptmx.sty"
       ]
      },
      {
       "output_type": "stream",
       "stream": "stdout",
       "text": [
        ")\r\n",
        "(/usr/share/texlive/texmf-dist/tex/latex/base/inputenc.sty\r\n",
        "(/usr/share/texlive/texmf-dist/tex/latex/base/utf8.def\r\n",
        "(/usr/share/texlive/texmf-dist/tex/latex/base/t1enc.dfu)\r\n",
        "(/usr/share/texlive/texmf-dist/tex/latex/base/ot1enc.dfu)\r\n",
        "(/usr/share/texlive/texmf-dist/tex/latex/base/omsenc.dfu)\r\n",
        "(/usr/share/texlive/texmf-dist/tex/latex/base/ts1enc.dfu)))\r\n",
        "(/usr/share/texlive/texmf-dist/tex/latex/base/fontenc.sty\r\n",
        "(/usr/share/texlive/texmf-dist/tex/latex/base/t1enc.def))\r\n",
        "(/usr/share/texlive/texmf/tex/generic/pdftex/glyphtounicode.tex"
       ]
      },
      {
       "output_type": "stream",
       "stream": "stdout",
       "text": [
        ")\r\n",
        "(/usr/share/texlive/texmf-dist/tex/latex/fancyhdr/fancyhdr.sty)\r\n",
        "(/usr/share/texlive/texmf-dist/tex/latex/nomencl/nomencl.sty)\r\n",
        "Writing nomenclature file mock_thesis.nlo\r\n",
        "(/usr/share/texlive/texmf-dist/tex/latex/base/makeidx.sty)\r\n",
        "Writing index file mock_thesis.idx\r\n",
        ") (./Preamble/preamble.tex\r\n",
        "(/usr/share/texlive/texmf-dist/tex/latex/caption/caption.sty\r\n",
        "(/usr/share/texlive/texmf-dist/tex/latex/caption/caption3.sty)"
       ]
      },
      {
       "output_type": "stream",
       "stream": "stdout",
       "text": [
        ")\r\n",
        "(/usr/share/texlive/texmf-dist/tex/latex/subfig/subfig.sty)\r\n",
        "(/usr/share/texlive/texmf-dist/tex/latex/amsfonts/amsfonts.sty)\r\n",
        "(/usr/share/texlive/texmf-dist/tex/latex/amsmath/amsmath.sty\r\n",
        "For additional information on amsmath, use the `?' option.\r\n",
        "(/usr/share/texlive/texmf-dist/tex/latex/amsmath/amstext.sty\r\n",
        "(/usr/share/texlive/texmf-dist/tex/latex/amsmath/amsgen.sty))\r\n",
        "(/usr/share/texlive/texmf-dist/tex/latex/amsmath/amsbsy.sty)\r\n",
        "(/usr/share/texlive/texmf-dist/tex/latex/amsmath/amsopn.sty))\r\n",
        "(/usr/share/texlive/texmf-dist/tex/latex/amsfonts/amssymb.sty))\r\n",
        "(./thesis-info.tex) (./mock_thesis.aux"
       ]
      },
      {
       "output_type": "stream",
       "stream": "stdout",
       "text": [
        " (./Dedication/dedication.aux)\r\n",
        "(./Declaration/declaration.aux) (./Acknowledgement/acknowledgement.aux)\r\n",
        "(./Abstract/abstract.aux) (./mock_Chapter1/mock_chapter1.aux)\r\n",
        "(./orig_Chapter2/chapter2.aux) (./mock_Chapter2/mock_chapter2.aux)\r\n",
        "(./mock_Chapter3/mock_chapter3.aux) (./Appendix1/appendix1.aux)\r\n",
        "(./Appendix2/appendix2.aux))"
       ]
      },
      {
       "output_type": "stream",
       "stream": "stdout",
       "text": [
        "\r\n",
        "(/usr/share/texlive/texmf-dist/tex/latex/base/ts1cmr.fd)\r\n",
        "(/usr/share/texlive/texmf-dist/tex/latex/psnfss/t1ptm.fd)\r\n",
        "(/usr/share/texlive/texmf-dist/tex/latex/hyperref/nameref.sty\r\n",
        "(/usr/share/texlive/texmf-dist/tex/generic/oberdiek/gettitlestring.sty))\r\n",
        "(./mock_thesis.out) (./mock_thesis.out)\r\n",
        "*geometry* detected driver: pdftex\r\n",
        "(/usr/share/texlive/texmf-dist/tex/context/base/supp-pdf.mkii\r\n",
        "[Loading MPS to PDF converter (version 2006.09.02).]\r\n",
        ")\r\n",
        "! Undefined control sequence.\r\n",
        "\\@title ...our PhD Thesis in IPython notebooks \\n \r\n",
        "                                                  and \\n \\texorpdfstring {\\\\...\r\n",
        "l.105 \\begin{document}\r\n",
        "                      \r\n",
        "! Undefined control sequence.\r\n",
        "\\@title ... Thesis in IPython notebooks \\n and \\n \r\n",
        "                                                  \\texorpdfstring {\\\\ \\LaTeX...\r\n",
        "l.105 \\begin{document}\r\n",
        "                      \r\n"
       ]
      },
      {
       "output_type": "stream",
       "stream": "stdout",
       "text": [
        "! Undefined control sequence.\r\n",
        "\\@title ...our PhD Thesis in IPython notebooks \\n \r\n",
        "                                                  and \\n \\texorpdfstring {\\\\...\r\n",
        "l.111 \\maketitle\r\n",
        "                \r\n",
        "! Undefined control sequence.\r\n",
        "\\@title ... Thesis in IPython notebooks \\n and \\n \r\n",
        "                                                  \\texorpdfstring {\\\\ \\LaTeX...\r\n",
        "l.111 \\maketitle\r\n",
        "                \r\n",
        "(/usr/share/texlive/texmf-dist/tex/latex/psnfss/ot1ztmcm.fd)\r\n",
        "(/usr/share/texlive/texmf-dist/tex/latex/psnfss/omlztmcm.fd)\r\n",
        "(/usr/share/texlive/texmf-dist/tex/latex/psnfss/omsztmcm.fd)\r\n",
        "(/usr/share/texlive/texmf-dist/tex/latex/psnfss/omxztmcm.fd)\r\n",
        "(/usr/share/texlive/texmf-dist/tex/latex/psnfss/ot1ptm.fd)\r\n",
        "\r\n",
        "! LaTeX Error: File `University_Crest' not found.\r\n",
        "\r\n",
        "See the LaTeX manual or LaTeX Companion for explanation.\r\n",
        "Type  H <return>  for immediate help.\r\n",
        " ...                                              \r\n",
        "                                                  \r\n",
        "l.111 \\maketitle\r\n",
        "                \r\n"
       ]
      },
      {
       "output_type": "stream",
       "stream": "stdout",
       "text": [
        "! Undefined control sequence.\r\n",
        "\\@title ...our PhD Thesis in IPython notebooks \\n \r\n",
        "                                                  and \\n \\texorpdfstring {\\\\...\r\n",
        "l.111 \\maketitle\r\n",
        "                \r\n",
        "! Undefined control sequence.\r\n",
        "\\@title ... Thesis in IPython notebooks \\n and \\n \r\n",
        "                                                  \\texorpdfstring {\\\\ \\LaTeX...\r\n",
        "l.111 \\maketitle\r\n",
        "                \r\n",
        "\r\n",
        "! LaTeX Error: File `University_Crest' not found.\r\n",
        "\r\n",
        "See the LaTeX manual or LaTeX Companion for explanation.\r\n",
        "Type  H <return>  for immediate help.\r\n",
        " ...                                              \r\n",
        "                                                  \r\n",
        "l.111 \\maketitle\r\n",
        "                \r\n",
        "[1{/var/lib/texmf/fonts/map/pdftex/updmap/pdftex.map"
       ]
      },
      {
       "output_type": "stream",
       "stream": "stdout",
       "text": [
        "}]\r\n",
        "(./Dedication/dedication.tex"
       ]
      },
      {
       "output_type": "stream",
       "stream": "stdout",
       "text": [
        " [2]) [3] (./Declaration/declaration.tex [4])\r\n",
        "[5] (./Acknowledgement/acknowledgement.tex [6]) [7]"
       ]
      },
      {
       "output_type": "stream",
       "stream": "stdout",
       "text": [
        " (./Abstract/abstract.tex\r\n",
        "[8]) [9] [10] (./mock_thesis.toc) [11] [12] (./mock_thesis.lof)"
       ]
      },
      {
       "output_type": "stream",
       "stream": "stdout",
       "text": [
        " [13] [14]\r\n",
        "(./mock_thesis.lot) (./mock_thesis.nls) [15] [16]"
       ]
      },
      {
       "output_type": "stream",
       "stream": "stdout",
       "text": [
        "\r\n",
        "(./mock_Chapter1/mock_chapter1.tex\r\n",
        "Chapter 1.\r\n",
        ") [1] (./orig_Chapter2/chapter2.tex [2]\r\n",
        "Chapter 2.\r\n",
        "\r\n",
        "! LaTeX Error: File `minion' not found.\r\n",
        "\r\n",
        "See the LaTeX manual or LaTeX Companion for explanation.\r\n",
        "Type  H <return>  for immediate help.\r\n",
        " ...                                              \r\n",
        "                                                  \r\n",
        "l.26 \\includegraphics[width=1.0\\textwidth]{minion}\r\n",
        "                                                  \r\n",
        "(/usr/share/texlive/texmf-dist/tex/latex/psnfss/ts1ptm.fd) [3"
       ]
      },
      {
       "output_type": "stream",
       "stream": "stdout",
       "text": [
        "] [4] [5]\r\n",
        "\r\n",
        "! LaTeX Error: File `TomandJerry' not found.\r\n",
        "\r\n",
        "See the LaTeX manual or LaTeX Companion for explanation.\r\n",
        "Type  H <return>  for immediate help.\r\n",
        " ...                                              \r\n",
        "                                                  \r\n",
        "l.82 ...raphics[width=0.3\\textwidth]{TomandJerry}}\r\n",
        "                                                  \r\n",
        "\r\n",
        "Overfull \\hbox (11.09985pt too wide) in paragraph at lines 82--82\r\n",
        "[]\\T1/ptm/m/n/10 (a)\r\n",
        "\r\n",
        "Overfull \\hbox (7.21997pt too wide) in paragraph at lines 82--82\r\n",
        "|\\T1/ptm/m/n/10 A\r\n",
        "\r\n",
        "Overfull \\hbox (18.08994pt too wide) in paragraph at lines 82--82\r\n",
        "\\T1/ptm/m/n/10 Tom\r\n",
        "\r\n",
        "Overfull \\hbox (14.43994pt too wide) in paragraph at lines 82--82\r\n",
        "\\T1/ptm/m/n/10 and\r\n",
        "\r\n",
        "Overfull \\hbox (19.98975pt too wide) in paragraph at lines 82--82\r\n",
        "\\T1/ptm/m/n/10 Jerry| \r\n"
       ]
      },
      {
       "output_type": "stream",
       "stream": "stdout",
       "text": [
        "\r\n",
        "! LaTeX Error: File `WallE' not found.\r\n",
        "\r\n",
        "See the LaTeX manual or LaTeX Companion for explanation.\r\n",
        "Type  H <return>  for immediate help.\r\n",
        " ...                                              \r\n",
        "                                                  \r\n",
        "l.83 ...cludegraphics[width=0.3\\textwidth]{WallE}}\r\n",
        "                                                  \r\n",
        "\r\n",
        "Overfull \\hbox (11.65991pt too wide) in paragraph at lines 83--83\r\n",
        "[]\\T1/ptm/m/n/10 (b)\r\n",
        "\r\n",
        "Overfull \\hbox (7.21997pt too wide) in paragraph at lines 83--83\r\n",
        "|\\T1/ptm/m/n/10 A\r\n",
        "\r\n",
        "Overfull \\hbox (21.96968pt too wide) in paragraph at lines 83--83\r\n",
        "\\T1/ptm/m/n/10 Wall-\r\n",
        "\r\n",
        "Overfull \\hbox (6.10999pt too wide) in paragraph at lines 83--83\r\n",
        "\\T1/ptm/m/n/10 E| \r\n",
        "\r\n",
        "! LaTeX Error: File `minion' not found.\r\n",
        "\r\n",
        "See the LaTeX manual or LaTeX Companion for explanation.\r\n",
        "Type  H <return>  for immediate help.\r\n",
        " ...                                              \r\n",
        "                                                  \r\n",
        "l.84 ...ludegraphics[width=0.3\\textwidth]{minion}}\r\n",
        "                                                  \r\n",
        "\r\n",
        "Overfull \\hbox (11.09985pt too wide) in paragraph at lines 84--84\r\n",
        "[]\\T1/ptm/m/n/10 (c)\r\n",
        "\r\n",
        "Overfull \\hbox (7.21997pt too wide) in paragraph at lines 84--84\r\n",
        "|\\T1/ptm/m/n/10 A\r\n",
        "\r\n",
        "Overfull \\hbox (19.99974pt too wide) in paragraph at lines 84--84\r\n",
        "\\T1/ptm/m/n/10 Min-\r\n",
        "\r\n",
        "Overfull \\hbox (12.77989pt too wide) in paragraph at lines 84--84\r\n",
        "\\T1/ptm/m/n/10 ion| \r\n",
        "[6]) (./mock_Chapter2/mock_chapter2.tex\r\n",
        "Chapter 3.\r\n",
        ") [7] (./mock_Chapter3/mock_chapter3.tex [8]\r\n",
        "Chapter 4.\r\n",
        ") [9]"
       ]
      },
      {
       "output_type": "stream",
       "stream": "stdout",
       "text": [
        " [10] (./mock_thesis.bbl\r\n",
        "\r\n",
        "Package natbib Warning: Empty `thebibliography' environment on input line 3.\r\n",
        "\r\n",
        ") [11] (./Appendix1/appendix1.tex [12]\r\n",
        "Appendix A.\r\n",
        "[13] [14] (/usr/share/texlive/texmf-dist/tex/latex/base/t1cmtt.fd) [15])\r\n",
        "[16]"
       ]
      },
      {
       "output_type": "stream",
       "stream": "stdout",
       "text": [
        " (./Appendix2/appendix2.tex\r\n",
        "Appendix B.\r\n",
        ") [17] [18] (./mock_thesis.ind) (./mock_thesis.aux (./Dedication/dedication.aux\r\n",
        ") (./Declaration/declaration.aux) (./Acknowledgement/acknowledgement.aux)\r\n",
        "(./Abstract/abstract.aux) (./mock_Chapter1/mock_chapter1.aux)\r\n",
        "(./orig_Chapter2/chapter2.aux)"
       ]
      },
      {
       "output_type": "stream",
       "stream": "stdout",
       "text": [
        " (./mock_Chapter2/mock_chapter2.aux)\r\n",
        "(./mock_Chapter3/mock_chapter3.aux) (./Appendix1/appendix1.aux)\r\n",
        "(./Appendix2/appendix2.aux)) )\r\n",
        "(\\end occurred inside a group at level 1)\r\n",
        "\r\n",
        "### semi simple group (level 1) entered at line 738 (\\begingroup)\r\n",
        "### bottom level\r\n",
        "(see the transcript file for additional information)pdfTeX warning (dest): name\r\n",
        "{Hfootnote.1} has been referenced but does not exist, replaced by a fixed one\r\n",
        "\r\n",
        "{/usr/share/texmf/fonts/enc/dvips/cm-super/cm-super-t1.enc}{/usr/share/texlive/\r\n",
        "texmf-dist/fonts/enc/dvips/base/8r.enc}</usr/share/texmf/fonts/type1/public/cm-\r\n",
        "super/sftt1200.pfb></usr/share/texlive/texmf-dist/fonts/type1/urw/times/utmb8a.\r\n",
        "pfb></usr/share/texlive/texmf-dist/fonts/type1/urw/times/utmr8a.pfb"
       ]
      },
      {
       "output_type": "stream",
       "stream": "stdout",
       "text": [
        "></usr/share\r\n",
        "/texlive/texmf-dist/fonts/type1/urw/times/utmri8a.pfb>\r\n",
        "Output written on mock_thesis.pdf (34 pages, 102542 bytes).\r\n",
        "Transcript written on mock_thesis.log.\r\n",
        "Success!\r\n"
       ]
      }
     ],
     "prompt_number": 412
    },
    {
     "cell_type": "heading",
     "level": 2,
     "metadata": {},
     "source": [
      "Graveyard"
     ]
    },
    {
     "cell_type": "code",
     "collapsed": false,
     "input": [
      "\"\"\"\n",
      "#http://stackoverflow.com/questions/19575702/pythonhow-to-split-file-into-chunks-by-the-occurrence-of-the-header-word\n",
      "\n",
      "\n",
      "fname = 'jg_thesis_chapters.tex'\n",
      "#main_dir = '../newf =  'kk_latex_template/jg_Chapter2/jg_parsed_chapter_'\n",
      "token = '\\chapter'\n",
      "chunks = []\n",
      "current_chunk = []\n",
      "\n",
      "for line in open(fname):\n",
      "   #if line.startswith(token) and current_chunk: \n",
      "   if token in line and current_chunk:        \n",
      "      # if line starts with token and the current chunk is not empty\n",
      "      chunks.append(current_chunk[:]) #  add not empty chunk to chunks\n",
      "      current_chunk = [] #  make current chunk blank\n",
      "   # just append a line to the current chunk on each iteration\n",
      "   current_chunk.append(line)\n",
      "\n",
      "chunks.append(current_chunk)  #  append the last chunk outside the loop\n",
      "#So having file with contents:\n",
      "\n",
      "for c_it, c in enumerate(chunks[1:]):\n",
      " f = open('%s_%s.tex' %(newf,c_it+1), 'w')\n",
      " crep = [cc.replace('.png', '') for cc in c]\n",
      " f.writelines(crep)#c) \n",
      " f.close()\n",
      "    \n",
      "#%load newtexfile.tex\n",
      "\"\"\";"
     ],
     "language": "python",
     "metadata": {
      "run_control": {
       "breakpoint": false
      }
     },
     "outputs": []
    },
    {
     "cell_type": "code",
     "collapsed": false,
     "input": [],
     "language": "python",
     "metadata": {
      "run_control": {
       "breakpoint": false
      }
     },
     "outputs": []
    }
   ],
   "metadata": {}
  }
 ]
}
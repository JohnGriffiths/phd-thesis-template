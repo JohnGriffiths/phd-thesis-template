{
 "metadata": {
  "css": [
   ""
  ],
  "name": "_merged",
  "signature": "sha256:6cb63a85e6cf43e0813ef16d29287b60f7ea7674900df69c7322c333109d692a"
 },
 "nbformat": 3,
 "nbformat_minor": 0,
 "worksheets": [
  {
   "cells": [
    {
     "cell_type": "heading",
     "level": 1,
     "metadata": {},
     "source": [
      "<center>Mock Chapter 1</center>"
     ]
    },
    {
     "cell_type": "heading",
     "level": 2,
     "metadata": {},
     "source": [
      "<center>An enchanting mock chapter 1 title goes here</center>"
     ]
    },
    {
     "cell_type": "markdown",
     "metadata": {},
     "source": [
      "***Abstract***"
     ]
    },
    {
     "cell_type": "markdown",
     "metadata": {},
     "source": [
      "Important note about section headings: \n",
      "\n",
      "In order to get both markdown (notebook) and latex playing ball, I:\n",
      "  - Use heading one in the notebook for Chapter number\n",
      "  - Use heading two in notebook for chapter title\n",
      "  - Set chapter heading one block in nbconvert template file to blank\n",
      "  - ...result = heading ones are ommitted in latex docs. Latex adds its own titles anyway (this is why I wanted to sort this). "
     ]
    },
    {
     "cell_type": "markdown",
     "metadata": {},
     "source": [
      "Now: the question is - will things be excluded because they are in markdown cells, of because of the nbconvert template. \n",
      "    \n",
      "Test: \n",
      "    \n",
      "\n",
      " - chapter sub title is current not in html tags and not blocked\n",
      " - ...but chapter number is in markdown\n",
      " - ...so: should be excluded in markdown\n",
      "        \n",
      "        \n",
      "        \n",
      "1: chapter 1 title and subtitle in heading 1, but chapter 1 number in html\n",
      "2 - chapter 1 in title and chapter 2 in subtitute\n",
      " - switch on suppresion of chapter in nbconvert\n",
      "\n"
     ]
    },
    {
     "cell_type": "markdown",
     "metadata": {},
     "source": [
      "Lorem ipsum blah blah"
     ]
    },
    {
     "cell_type": "heading",
     "level": 3,
     "metadata": {},
     "source": [
      "Background "
     ]
    },
    {
     "cell_type": "markdown",
     "metadata": {},
     "source": [
      "blah blah blah"
     ]
    },
    {
     "cell_type": "heading",
     "level": 3,
     "metadata": {},
     "source": [
      "Methods"
     ]
    },
    {
     "cell_type": "markdown",
     "metadata": {},
     "source": [
      "blah blah blah"
     ]
    },
    {
     "cell_type": "markdown",
     "metadata": {},
     "source": [
      "![JHU tracts {Adding a fuller caption which is what I woudl like to say about the JHU tracts. Hopefuly this will not appear in the list of figures. If the label tag does its job, I think that's what should happen. But there's also this issue about closing the square bracket... \\label{fig:JHU tracts}](files/figures/Ch2_JHU_tracts.png)\n",
      "\n",
      "\n",
      "<center>HTML caption here - JHU tracts  Adding a fuller caption which is what I woudl like to say about the JHU tracts. Hopefuly this will not appear in the list of figures. If the label tag does its job, I think that's what should happen. But there's also this issue about closing the square bracket...</center>"
     ]
    },
    {
     "cell_type": "markdown",
     "metadata": {},
     "source": [
      "blah blah blah"
     ]
    },
    {
     "cell_type": "heading",
     "level": 3,
     "metadata": {},
     "source": [
      "Results"
     ]
    },
    {
     "cell_type": "markdown",
     "metadata": {},
     "source": [
      "blah blah blah"
     ]
    },
    {
     "cell_type": "markdown",
     "metadata": {},
     "source": [
      "![SEM models \\label{fig:SEM models}](files/figures/SEM_models.png)\n",
      "\n",
      "\n",
      "<center>HTML caption here   - SEM models </center>"
     ]
    },
    {
     "cell_type": "heading",
     "level": 3,
     "metadata": {},
     "source": [
      "Discussion"
     ]
    },
    {
     "cell_type": "markdown",
     "metadata": {},
     "source": [
      "Minion hyperlink test\n",
      "\n",
      "(see here  https://groups.google.com/forum/#!msg/pandoc-discuss/MxGKvnNI08c/M6398LGWvqIJ)"
     ]
    },
    {
     "cell_type": "markdown",
     "metadata": {},
     "source": [
      "![Minion](files/figures/minion.png){#minion}\n",
      "\n",
      "<center> HTML caption - minion (original pandoc hyperlink test) </center>\n",
      "\n"
     ]
    },
    {
     "cell_type": "markdown",
     "metadata": {},
     "source": [
      "blah blah blah"
     ]
    },
    {
     "cell_type": "markdown",
     "metadata": {},
     "source": [
      "Alternative hyperlink test - see here:\n",
      "    \n",
      "    http://stackoverflow.com/questions/9434536/how-do-i-make-a-reference-to-a-figure-in-markdown-using-pandoc"
     ]
    },
    {
     "cell_type": "markdown",
     "metadata": {},
     "source": [
      "![WallE\\label{fig:WallE}](files/figures/WallE.png)\n",
      "    \n",
      "<center> Wall E HTML caption goes here; shouldn't be see by latex.   </center>"
     ]
    },
    {
     "cell_type": "markdown",
     "metadata": {},
     "source": [
      "blah blah blah"
     ]
    },
    {
     "cell_type": "markdown",
     "metadata": {},
     "source": [
      "![TomandJerry\\label{fig:TomandJerry}](files/figures/TomandJerry.png)\n",
      "\n",
      "\n",
      "<center>HTML caption here  </center>"
     ]
    },
    {
     "cell_type": "markdown",
     "metadata": {},
     "source": [
      "blah blah blah"
     ]
    },
    {
     "cell_type": "code",
     "collapsed": false,
     "input": [],
     "language": "python",
     "metadata": {
      "run_control": {
       "breakpoint": false
      }
     },
     "outputs": [],
     "prompt_number": 0
    },
    {
     "cell_type": "code",
     "collapsed": false,
     "input": [],
     "language": "python",
     "metadata": {
      "run_control": {
       "breakpoint": false
      }
     },
     "outputs": []
    },
    {
     "cell_type": "heading",
     "level": 1,
     "metadata": {},
     "source": [
      "<center>Mock Chapter 2</center>"
     ]
    },
    {
     "cell_type": "heading",
     "level": 2,
     "metadata": {},
     "source": [
      "<center> Add an exciting chapter 2 sub heading here> </center>"
     ]
    },
    {
     "cell_type": "markdown",
     "metadata": {},
     "source": [
      "***Abstract***"
     ]
    },
    {
     "cell_type": "markdown",
     "metadata": {},
     "source": [
      "Important note about section headings: \n",
      "\n",
      "In order to get both markdown (notebook) and latex playing ball, I:\n",
      "  - Use heading one in the notebook for Chapter number\n",
      "  - Use heading two in notebook for chapter title\n",
      "  - Set chapter heading one block in nbconvert template file to blank\n",
      "  - ...result = heading ones are ommitted in latex docs. Latex adds its own titles anyway (this is why I wanted to sort this). "
     ]
    },
    {
     "cell_type": "markdown",
     "metadata": {},
     "source": [
      "Lorem ipsum blah blah"
     ]
    },
    {
     "cell_type": "heading",
     "level": 2,
     "metadata": {},
     "source": [
      "Background "
     ]
    },
    {
     "cell_type": "markdown",
     "metadata": {},
     "source": [
      "blah blah blah"
     ]
    },
    {
     "cell_type": "heading",
     "level": 2,
     "metadata": {},
     "source": [
      "Methods"
     ]
    },
    {
     "cell_type": "markdown",
     "metadata": {},
     "source": [
      "blah blah blah"
     ]
    },
    {
     "cell_type": "markdown",
     "metadata": {},
     "source": [
      "blah blah blah"
     ]
    },
    {
     "cell_type": "heading",
     "level": 2,
     "metadata": {},
     "source": [
      "Results"
     ]
    },
    {
     "cell_type": "markdown",
     "metadata": {},
     "source": [
      "blah blah blah"
     ]
    },
    {
     "cell_type": "markdown",
     "metadata": {},
     "source": [
      "![Bayes Factors \\label{fig:Bayes factors}](files/figures/dwi_mediation_of_age_fx_on_onset_latency_bayesfactors.png)\n",
      "\n",
      "<center>HTML caption here   - Bayes factors </center>\n",
      "\n"
     ]
    },
    {
     "cell_type": "heading",
     "level": 2,
     "metadata": {},
     "source": [
      "Discussion"
     ]
    },
    {
     "cell_type": "markdown",
     "metadata": {},
     "source": [
      "blah blah blah"
     ]
    },
    {
     "cell_type": "heading",
     "level": 1,
     "metadata": {},
     "source": [
      "<center>Mock Chapter 3</center>"
     ]
    },
    {
     "cell_type": "heading",
     "level": 2,
     "metadata": {},
     "source": [
      "<center> The exciting sub heading chapter name of mock chapter 3 </center>"
     ]
    },
    {
     "cell_type": "markdown",
     "metadata": {},
     "source": [
      "***Abstract***"
     ]
    },
    {
     "cell_type": "markdown",
     "metadata": {},
     "source": [
      "blah blah blah  \n",
      "blah blah blah  \n",
      "blah blah blah  \n",
      "blah blah blah  \n",
      "blah blah blah  "
     ]
    },
    {
     "cell_type": "markdown",
     "metadata": {},
     "source": [
      "Lorem ipsum blah blah"
     ]
    },
    {
     "cell_type": "heading",
     "level": 2,
     "metadata": {},
     "source": [
      "Background "
     ]
    },
    {
     "cell_type": "markdown",
     "metadata": {},
     "source": [
      "blah blah blah"
     ]
    },
    {
     "cell_type": "heading",
     "level": 2,
     "metadata": {},
     "source": [
      "Methods"
     ]
    },
    {
     "cell_type": "markdown",
     "metadata": {},
     "source": [
      "blah blah blah"
     ]
    },
    {
     "cell_type": "markdown",
     "metadata": {},
     "source": [
      "![Correlations /label{fig:correlations}](files/figures/f2p5_correlations_table.png)\n",
      "\n",
      "<center> HTML caption - correlations </center>"
     ]
    },
    {
     "cell_type": "markdown",
     "metadata": {},
     "source": [
      "blah blah blah"
     ]
    },
    {
     "cell_type": "heading",
     "level": 2,
     "metadata": {},
     "source": [
      "Results"
     ]
    },
    {
     "cell_type": "markdown",
     "metadata": {},
     "source": [
      "blah blah blah"
     ]
    },
    {
     "cell_type": "heading",
     "level": 2,
     "metadata": {},
     "source": [
      "Discussion"
     ]
    },
    {
     "cell_type": "markdown",
     "metadata": {},
     "source": [
      "blah blah blah"
     ]
    },
    {
     "cell_type": "code",
     "collapsed": false,
     "input": [],
     "language": "python",
     "metadata": {
      "run_control": {
       "breakpoint": false
      }
     },
     "outputs": []
    }
   ],
   "metadata": {}
  }
 ]
}
